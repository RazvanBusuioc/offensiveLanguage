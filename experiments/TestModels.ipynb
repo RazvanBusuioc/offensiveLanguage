{
  "nbformat": 4,
  "nbformat_minor": 0,
  "metadata": {
    "colab": {
      "name": "TestModels.ipynb",
      "provenance": [],
      "collapsed_sections": []
    },
    "kernelspec": {
      "name": "python3",
      "display_name": "Python 3"
    },
    "language_info": {
      "name": "python"
    },
    "accelerator": "GPU",
    "gpuClass": "standard",
    "widgets": {
      "application/vnd.jupyter.widget-state+json": {
        "c817f9e44dc243bd915a0708a088599b": {
          "model_module": "@jupyter-widgets/controls",
          "model_name": "HBoxModel",
          "model_module_version": "1.5.0",
          "state": {
            "_dom_classes": [],
            "_model_module": "@jupyter-widgets/controls",
            "_model_module_version": "1.5.0",
            "_model_name": "HBoxModel",
            "_view_count": null,
            "_view_module": "@jupyter-widgets/controls",
            "_view_module_version": "1.5.0",
            "_view_name": "HBoxView",
            "box_style": "",
            "children": [
              "IPY_MODEL_2630b3c5ba8c45259a952a5829d65234",
              "IPY_MODEL_a5076b8df8eb41fc98c0af4be3ada3a2",
              "IPY_MODEL_f8617c1a3b34453f864533d8c4894036"
            ],
            "layout": "IPY_MODEL_16f4aa1583f042b1979e8075f179ed3d"
          }
        },
        "2630b3c5ba8c45259a952a5829d65234": {
          "model_module": "@jupyter-widgets/controls",
          "model_name": "HTMLModel",
          "model_module_version": "1.5.0",
          "state": {
            "_dom_classes": [],
            "_model_module": "@jupyter-widgets/controls",
            "_model_module_version": "1.5.0",
            "_model_name": "HTMLModel",
            "_view_count": null,
            "_view_module": "@jupyter-widgets/controls",
            "_view_module_version": "1.5.0",
            "_view_name": "HTMLView",
            "description": "",
            "description_tooltip": null,
            "layout": "IPY_MODEL_958d37e9c8804ca08eedad81f2316f98",
            "placeholder": "​",
            "style": "IPY_MODEL_b594ec7741784cf19b749b519a71d8b6",
            "value": "Downloading: 100%"
          }
        },
        "a5076b8df8eb41fc98c0af4be3ada3a2": {
          "model_module": "@jupyter-widgets/controls",
          "model_name": "FloatProgressModel",
          "model_module_version": "1.5.0",
          "state": {
            "_dom_classes": [],
            "_model_module": "@jupyter-widgets/controls",
            "_model_module_version": "1.5.0",
            "_model_name": "FloatProgressModel",
            "_view_count": null,
            "_view_module": "@jupyter-widgets/controls",
            "_view_module_version": "1.5.0",
            "_view_name": "ProgressView",
            "bar_style": "success",
            "description": "",
            "description_tooltip": null,
            "layout": "IPY_MODEL_048ee76bb6214233942d52b44be5abf9",
            "max": 341,
            "min": 0,
            "orientation": "horizontal",
            "style": "IPY_MODEL_3a2864784d4049ec8bdc98faa1c30cc0",
            "value": 341
          }
        },
        "f8617c1a3b34453f864533d8c4894036": {
          "model_module": "@jupyter-widgets/controls",
          "model_name": "HTMLModel",
          "model_module_version": "1.5.0",
          "state": {
            "_dom_classes": [],
            "_model_module": "@jupyter-widgets/controls",
            "_model_module_version": "1.5.0",
            "_model_name": "HTMLModel",
            "_view_count": null,
            "_view_module": "@jupyter-widgets/controls",
            "_view_module_version": "1.5.0",
            "_view_name": "HTMLView",
            "description": "",
            "description_tooltip": null,
            "layout": "IPY_MODEL_19df7835f82740e3813195bf0a6ca2f1",
            "placeholder": "​",
            "style": "IPY_MODEL_39c6507ae74841feacbe400dca392386",
            "value": " 341/341 [00:00&lt;00:00, 10.8kB/s]"
          }
        },
        "16f4aa1583f042b1979e8075f179ed3d": {
          "model_module": "@jupyter-widgets/base",
          "model_name": "LayoutModel",
          "model_module_version": "1.2.0",
          "state": {
            "_model_module": "@jupyter-widgets/base",
            "_model_module_version": "1.2.0",
            "_model_name": "LayoutModel",
            "_view_count": null,
            "_view_module": "@jupyter-widgets/base",
            "_view_module_version": "1.2.0",
            "_view_name": "LayoutView",
            "align_content": null,
            "align_items": null,
            "align_self": null,
            "border": null,
            "bottom": null,
            "display": null,
            "flex": null,
            "flex_flow": null,
            "grid_area": null,
            "grid_auto_columns": null,
            "grid_auto_flow": null,
            "grid_auto_rows": null,
            "grid_column": null,
            "grid_gap": null,
            "grid_row": null,
            "grid_template_areas": null,
            "grid_template_columns": null,
            "grid_template_rows": null,
            "height": null,
            "justify_content": null,
            "justify_items": null,
            "left": null,
            "margin": null,
            "max_height": null,
            "max_width": null,
            "min_height": null,
            "min_width": null,
            "object_fit": null,
            "object_position": null,
            "order": null,
            "overflow": null,
            "overflow_x": null,
            "overflow_y": null,
            "padding": null,
            "right": null,
            "top": null,
            "visibility": null,
            "width": null
          }
        },
        "958d37e9c8804ca08eedad81f2316f98": {
          "model_module": "@jupyter-widgets/base",
          "model_name": "LayoutModel",
          "model_module_version": "1.2.0",
          "state": {
            "_model_module": "@jupyter-widgets/base",
            "_model_module_version": "1.2.0",
            "_model_name": "LayoutModel",
            "_view_count": null,
            "_view_module": "@jupyter-widgets/base",
            "_view_module_version": "1.2.0",
            "_view_name": "LayoutView",
            "align_content": null,
            "align_items": null,
            "align_self": null,
            "border": null,
            "bottom": null,
            "display": null,
            "flex": null,
            "flex_flow": null,
            "grid_area": null,
            "grid_auto_columns": null,
            "grid_auto_flow": null,
            "grid_auto_rows": null,
            "grid_column": null,
            "grid_gap": null,
            "grid_row": null,
            "grid_template_areas": null,
            "grid_template_columns": null,
            "grid_template_rows": null,
            "height": null,
            "justify_content": null,
            "justify_items": null,
            "left": null,
            "margin": null,
            "max_height": null,
            "max_width": null,
            "min_height": null,
            "min_width": null,
            "object_fit": null,
            "object_position": null,
            "order": null,
            "overflow": null,
            "overflow_x": null,
            "overflow_y": null,
            "padding": null,
            "right": null,
            "top": null,
            "visibility": null,
            "width": null
          }
        },
        "b594ec7741784cf19b749b519a71d8b6": {
          "model_module": "@jupyter-widgets/controls",
          "model_name": "DescriptionStyleModel",
          "model_module_version": "1.5.0",
          "state": {
            "_model_module": "@jupyter-widgets/controls",
            "_model_module_version": "1.5.0",
            "_model_name": "DescriptionStyleModel",
            "_view_count": null,
            "_view_module": "@jupyter-widgets/base",
            "_view_module_version": "1.2.0",
            "_view_name": "StyleView",
            "description_width": ""
          }
        },
        "048ee76bb6214233942d52b44be5abf9": {
          "model_module": "@jupyter-widgets/base",
          "model_name": "LayoutModel",
          "model_module_version": "1.2.0",
          "state": {
            "_model_module": "@jupyter-widgets/base",
            "_model_module_version": "1.2.0",
            "_model_name": "LayoutModel",
            "_view_count": null,
            "_view_module": "@jupyter-widgets/base",
            "_view_module_version": "1.2.0",
            "_view_name": "LayoutView",
            "align_content": null,
            "align_items": null,
            "align_self": null,
            "border": null,
            "bottom": null,
            "display": null,
            "flex": null,
            "flex_flow": null,
            "grid_area": null,
            "grid_auto_columns": null,
            "grid_auto_flow": null,
            "grid_auto_rows": null,
            "grid_column": null,
            "grid_gap": null,
            "grid_row": null,
            "grid_template_areas": null,
            "grid_template_columns": null,
            "grid_template_rows": null,
            "height": null,
            "justify_content": null,
            "justify_items": null,
            "left": null,
            "margin": null,
            "max_height": null,
            "max_width": null,
            "min_height": null,
            "min_width": null,
            "object_fit": null,
            "object_position": null,
            "order": null,
            "overflow": null,
            "overflow_x": null,
            "overflow_y": null,
            "padding": null,
            "right": null,
            "top": null,
            "visibility": null,
            "width": null
          }
        },
        "3a2864784d4049ec8bdc98faa1c30cc0": {
          "model_module": "@jupyter-widgets/controls",
          "model_name": "ProgressStyleModel",
          "model_module_version": "1.5.0",
          "state": {
            "_model_module": "@jupyter-widgets/controls",
            "_model_module_version": "1.5.0",
            "_model_name": "ProgressStyleModel",
            "_view_count": null,
            "_view_module": "@jupyter-widgets/base",
            "_view_module_version": "1.2.0",
            "_view_name": "StyleView",
            "bar_color": null,
            "description_width": ""
          }
        },
        "19df7835f82740e3813195bf0a6ca2f1": {
          "model_module": "@jupyter-widgets/base",
          "model_name": "LayoutModel",
          "model_module_version": "1.2.0",
          "state": {
            "_model_module": "@jupyter-widgets/base",
            "_model_module_version": "1.2.0",
            "_model_name": "LayoutModel",
            "_view_count": null,
            "_view_module": "@jupyter-widgets/base",
            "_view_module_version": "1.2.0",
            "_view_name": "LayoutView",
            "align_content": null,
            "align_items": null,
            "align_self": null,
            "border": null,
            "bottom": null,
            "display": null,
            "flex": null,
            "flex_flow": null,
            "grid_area": null,
            "grid_auto_columns": null,
            "grid_auto_flow": null,
            "grid_auto_rows": null,
            "grid_column": null,
            "grid_gap": null,
            "grid_row": null,
            "grid_template_areas": null,
            "grid_template_columns": null,
            "grid_template_rows": null,
            "height": null,
            "justify_content": null,
            "justify_items": null,
            "left": null,
            "margin": null,
            "max_height": null,
            "max_width": null,
            "min_height": null,
            "min_width": null,
            "object_fit": null,
            "object_position": null,
            "order": null,
            "overflow": null,
            "overflow_x": null,
            "overflow_y": null,
            "padding": null,
            "right": null,
            "top": null,
            "visibility": null,
            "width": null
          }
        },
        "39c6507ae74841feacbe400dca392386": {
          "model_module": "@jupyter-widgets/controls",
          "model_name": "DescriptionStyleModel",
          "model_module_version": "1.5.0",
          "state": {
            "_model_module": "@jupyter-widgets/controls",
            "_model_module_version": "1.5.0",
            "_model_name": "DescriptionStyleModel",
            "_view_count": null,
            "_view_module": "@jupyter-widgets/base",
            "_view_module_version": "1.2.0",
            "_view_name": "StyleView",
            "description_width": ""
          }
        },
        "0dffdbb760e146e6add5b68af70cae38": {
          "model_module": "@jupyter-widgets/controls",
          "model_name": "HBoxModel",
          "model_module_version": "1.5.0",
          "state": {
            "_dom_classes": [],
            "_model_module": "@jupyter-widgets/controls",
            "_model_module_version": "1.5.0",
            "_model_name": "HBoxModel",
            "_view_count": null,
            "_view_module": "@jupyter-widgets/controls",
            "_view_module_version": "1.5.0",
            "_view_name": "HBoxView",
            "box_style": "",
            "children": [
              "IPY_MODEL_0b2f5e51e925420e8c7cec63e375e658",
              "IPY_MODEL_f04fe8ee47a740799c58489082d16938",
              "IPY_MODEL_af3ba08f0b734476be7bd3ee4a7e27c5"
            ],
            "layout": "IPY_MODEL_953aebade6be4d1e95b8850691c7745e"
          }
        },
        "0b2f5e51e925420e8c7cec63e375e658": {
          "model_module": "@jupyter-widgets/controls",
          "model_name": "HTMLModel",
          "model_module_version": "1.5.0",
          "state": {
            "_dom_classes": [],
            "_model_module": "@jupyter-widgets/controls",
            "_model_module_version": "1.5.0",
            "_model_name": "HTMLModel",
            "_view_count": null,
            "_view_module": "@jupyter-widgets/controls",
            "_view_module_version": "1.5.0",
            "_view_name": "HTMLView",
            "description": "",
            "description_tooltip": null,
            "layout": "IPY_MODEL_ca1e160a4b964e5e889d05ed3315ca80",
            "placeholder": "​",
            "style": "IPY_MODEL_53dabc1cca3a4e01a43919622497f36f",
            "value": "Downloading: 100%"
          }
        },
        "f04fe8ee47a740799c58489082d16938": {
          "model_module": "@jupyter-widgets/controls",
          "model_name": "FloatProgressModel",
          "model_module_version": "1.5.0",
          "state": {
            "_dom_classes": [],
            "_model_module": "@jupyter-widgets/controls",
            "_model_module_version": "1.5.0",
            "_model_name": "FloatProgressModel",
            "_view_count": null,
            "_view_module": "@jupyter-widgets/controls",
            "_view_module_version": "1.5.0",
            "_view_name": "ProgressView",
            "bar_style": "success",
            "description": "",
            "description_tooltip": null,
            "layout": "IPY_MODEL_b127a3fc21f4461383384c5b8b9a6c5d",
            "max": 468,
            "min": 0,
            "orientation": "horizontal",
            "style": "IPY_MODEL_47c3add35c1b4c2ba0f8b60326296141",
            "value": 468
          }
        },
        "af3ba08f0b734476be7bd3ee4a7e27c5": {
          "model_module": "@jupyter-widgets/controls",
          "model_name": "HTMLModel",
          "model_module_version": "1.5.0",
          "state": {
            "_dom_classes": [],
            "_model_module": "@jupyter-widgets/controls",
            "_model_module_version": "1.5.0",
            "_model_name": "HTMLModel",
            "_view_count": null,
            "_view_module": "@jupyter-widgets/controls",
            "_view_module_version": "1.5.0",
            "_view_name": "HTMLView",
            "description": "",
            "description_tooltip": null,
            "layout": "IPY_MODEL_e05ff9d2683c4bc5b1b803106cc2d18a",
            "placeholder": "​",
            "style": "IPY_MODEL_d794a30d0c2b4ef4863fc8d5d3274125",
            "value": " 468/468 [00:00&lt;00:00, 5.74kB/s]"
          }
        },
        "953aebade6be4d1e95b8850691c7745e": {
          "model_module": "@jupyter-widgets/base",
          "model_name": "LayoutModel",
          "model_module_version": "1.2.0",
          "state": {
            "_model_module": "@jupyter-widgets/base",
            "_model_module_version": "1.2.0",
            "_model_name": "LayoutModel",
            "_view_count": null,
            "_view_module": "@jupyter-widgets/base",
            "_view_module_version": "1.2.0",
            "_view_name": "LayoutView",
            "align_content": null,
            "align_items": null,
            "align_self": null,
            "border": null,
            "bottom": null,
            "display": null,
            "flex": null,
            "flex_flow": null,
            "grid_area": null,
            "grid_auto_columns": null,
            "grid_auto_flow": null,
            "grid_auto_rows": null,
            "grid_column": null,
            "grid_gap": null,
            "grid_row": null,
            "grid_template_areas": null,
            "grid_template_columns": null,
            "grid_template_rows": null,
            "height": null,
            "justify_content": null,
            "justify_items": null,
            "left": null,
            "margin": null,
            "max_height": null,
            "max_width": null,
            "min_height": null,
            "min_width": null,
            "object_fit": null,
            "object_position": null,
            "order": null,
            "overflow": null,
            "overflow_x": null,
            "overflow_y": null,
            "padding": null,
            "right": null,
            "top": null,
            "visibility": null,
            "width": null
          }
        },
        "ca1e160a4b964e5e889d05ed3315ca80": {
          "model_module": "@jupyter-widgets/base",
          "model_name": "LayoutModel",
          "model_module_version": "1.2.0",
          "state": {
            "_model_module": "@jupyter-widgets/base",
            "_model_module_version": "1.2.0",
            "_model_name": "LayoutModel",
            "_view_count": null,
            "_view_module": "@jupyter-widgets/base",
            "_view_module_version": "1.2.0",
            "_view_name": "LayoutView",
            "align_content": null,
            "align_items": null,
            "align_self": null,
            "border": null,
            "bottom": null,
            "display": null,
            "flex": null,
            "flex_flow": null,
            "grid_area": null,
            "grid_auto_columns": null,
            "grid_auto_flow": null,
            "grid_auto_rows": null,
            "grid_column": null,
            "grid_gap": null,
            "grid_row": null,
            "grid_template_areas": null,
            "grid_template_columns": null,
            "grid_template_rows": null,
            "height": null,
            "justify_content": null,
            "justify_items": null,
            "left": null,
            "margin": null,
            "max_height": null,
            "max_width": null,
            "min_height": null,
            "min_width": null,
            "object_fit": null,
            "object_position": null,
            "order": null,
            "overflow": null,
            "overflow_x": null,
            "overflow_y": null,
            "padding": null,
            "right": null,
            "top": null,
            "visibility": null,
            "width": null
          }
        },
        "53dabc1cca3a4e01a43919622497f36f": {
          "model_module": "@jupyter-widgets/controls",
          "model_name": "DescriptionStyleModel",
          "model_module_version": "1.5.0",
          "state": {
            "_model_module": "@jupyter-widgets/controls",
            "_model_module_version": "1.5.0",
            "_model_name": "DescriptionStyleModel",
            "_view_count": null,
            "_view_module": "@jupyter-widgets/base",
            "_view_module_version": "1.2.0",
            "_view_name": "StyleView",
            "description_width": ""
          }
        },
        "b127a3fc21f4461383384c5b8b9a6c5d": {
          "model_module": "@jupyter-widgets/base",
          "model_name": "LayoutModel",
          "model_module_version": "1.2.0",
          "state": {
            "_model_module": "@jupyter-widgets/base",
            "_model_module_version": "1.2.0",
            "_model_name": "LayoutModel",
            "_view_count": null,
            "_view_module": "@jupyter-widgets/base",
            "_view_module_version": "1.2.0",
            "_view_name": "LayoutView",
            "align_content": null,
            "align_items": null,
            "align_self": null,
            "border": null,
            "bottom": null,
            "display": null,
            "flex": null,
            "flex_flow": null,
            "grid_area": null,
            "grid_auto_columns": null,
            "grid_auto_flow": null,
            "grid_auto_rows": null,
            "grid_column": null,
            "grid_gap": null,
            "grid_row": null,
            "grid_template_areas": null,
            "grid_template_columns": null,
            "grid_template_rows": null,
            "height": null,
            "justify_content": null,
            "justify_items": null,
            "left": null,
            "margin": null,
            "max_height": null,
            "max_width": null,
            "min_height": null,
            "min_width": null,
            "object_fit": null,
            "object_position": null,
            "order": null,
            "overflow": null,
            "overflow_x": null,
            "overflow_y": null,
            "padding": null,
            "right": null,
            "top": null,
            "visibility": null,
            "width": null
          }
        },
        "47c3add35c1b4c2ba0f8b60326296141": {
          "model_module": "@jupyter-widgets/controls",
          "model_name": "ProgressStyleModel",
          "model_module_version": "1.5.0",
          "state": {
            "_model_module": "@jupyter-widgets/controls",
            "_model_module_version": "1.5.0",
            "_model_name": "ProgressStyleModel",
            "_view_count": null,
            "_view_module": "@jupyter-widgets/base",
            "_view_module_version": "1.2.0",
            "_view_name": "StyleView",
            "bar_color": null,
            "description_width": ""
          }
        },
        "e05ff9d2683c4bc5b1b803106cc2d18a": {
          "model_module": "@jupyter-widgets/base",
          "model_name": "LayoutModel",
          "model_module_version": "1.2.0",
          "state": {
            "_model_module": "@jupyter-widgets/base",
            "_model_module_version": "1.2.0",
            "_model_name": "LayoutModel",
            "_view_count": null,
            "_view_module": "@jupyter-widgets/base",
            "_view_module_version": "1.2.0",
            "_view_name": "LayoutView",
            "align_content": null,
            "align_items": null,
            "align_self": null,
            "border": null,
            "bottom": null,
            "display": null,
            "flex": null,
            "flex_flow": null,
            "grid_area": null,
            "grid_auto_columns": null,
            "grid_auto_flow": null,
            "grid_auto_rows": null,
            "grid_column": null,
            "grid_gap": null,
            "grid_row": null,
            "grid_template_areas": null,
            "grid_template_columns": null,
            "grid_template_rows": null,
            "height": null,
            "justify_content": null,
            "justify_items": null,
            "left": null,
            "margin": null,
            "max_height": null,
            "max_width": null,
            "min_height": null,
            "min_width": null,
            "object_fit": null,
            "object_position": null,
            "order": null,
            "overflow": null,
            "overflow_x": null,
            "overflow_y": null,
            "padding": null,
            "right": null,
            "top": null,
            "visibility": null,
            "width": null
          }
        },
        "d794a30d0c2b4ef4863fc8d5d3274125": {
          "model_module": "@jupyter-widgets/controls",
          "model_name": "DescriptionStyleModel",
          "model_module_version": "1.5.0",
          "state": {
            "_model_module": "@jupyter-widgets/controls",
            "_model_module_version": "1.5.0",
            "_model_name": "DescriptionStyleModel",
            "_view_count": null,
            "_view_module": "@jupyter-widgets/base",
            "_view_module_version": "1.2.0",
            "_view_name": "StyleView",
            "description_width": ""
          }
        },
        "a7a8cbdf35124ba4bb0f8557a893dba9": {
          "model_module": "@jupyter-widgets/controls",
          "model_name": "HBoxModel",
          "model_module_version": "1.5.0",
          "state": {
            "_dom_classes": [],
            "_model_module": "@jupyter-widgets/controls",
            "_model_module_version": "1.5.0",
            "_model_name": "HBoxModel",
            "_view_count": null,
            "_view_module": "@jupyter-widgets/controls",
            "_view_module_version": "1.5.0",
            "_view_name": "HBoxView",
            "box_style": "",
            "children": [
              "IPY_MODEL_9811955439074d3eb5fd849a7c67d448",
              "IPY_MODEL_a1cd6e5402b749a4adae349836223cdd",
              "IPY_MODEL_b9e057454cd746048598d5183bdb68af"
            ],
            "layout": "IPY_MODEL_e175bb52b01f48fe98012f419cb06a8b"
          }
        },
        "9811955439074d3eb5fd849a7c67d448": {
          "model_module": "@jupyter-widgets/controls",
          "model_name": "HTMLModel",
          "model_module_version": "1.5.0",
          "state": {
            "_dom_classes": [],
            "_model_module": "@jupyter-widgets/controls",
            "_model_module_version": "1.5.0",
            "_model_name": "HTMLModel",
            "_view_count": null,
            "_view_module": "@jupyter-widgets/controls",
            "_view_module_version": "1.5.0",
            "_view_name": "HTMLView",
            "description": "",
            "description_tooltip": null,
            "layout": "IPY_MODEL_9ebd947cc7d74c548ce775bd570de0e8",
            "placeholder": "​",
            "style": "IPY_MODEL_66010f7667224c91b427abcd83dab89a",
            "value": "Downloading: 100%"
          }
        },
        "a1cd6e5402b749a4adae349836223cdd": {
          "model_module": "@jupyter-widgets/controls",
          "model_name": "FloatProgressModel",
          "model_module_version": "1.5.0",
          "state": {
            "_dom_classes": [],
            "_model_module": "@jupyter-widgets/controls",
            "_model_module_version": "1.5.0",
            "_model_name": "FloatProgressModel",
            "_view_count": null,
            "_view_module": "@jupyter-widgets/controls",
            "_view_module_version": "1.5.0",
            "_view_name": "ProgressView",
            "bar_style": "success",
            "description": "",
            "description_tooltip": null,
            "layout": "IPY_MODEL_2d9d1a222cc64ef390c81c3a6b57da9b",
            "max": 244937,
            "min": 0,
            "orientation": "horizontal",
            "style": "IPY_MODEL_19157f74fe7c4ab68012c42c6715d6c7",
            "value": 244937
          }
        },
        "b9e057454cd746048598d5183bdb68af": {
          "model_module": "@jupyter-widgets/controls",
          "model_name": "HTMLModel",
          "model_module_version": "1.5.0",
          "state": {
            "_dom_classes": [],
            "_model_module": "@jupyter-widgets/controls",
            "_model_module_version": "1.5.0",
            "_model_name": "HTMLModel",
            "_view_count": null,
            "_view_module": "@jupyter-widgets/controls",
            "_view_module_version": "1.5.0",
            "_view_name": "HTMLView",
            "description": "",
            "description_tooltip": null,
            "layout": "IPY_MODEL_a06e08952c3a4798b262cc006313da35",
            "placeholder": "​",
            "style": "IPY_MODEL_d1eeb3620cc2431180dd623033f900cf",
            "value": " 239k/239k [00:00&lt;00:00, 311kB/s]"
          }
        },
        "e175bb52b01f48fe98012f419cb06a8b": {
          "model_module": "@jupyter-widgets/base",
          "model_name": "LayoutModel",
          "model_module_version": "1.2.0",
          "state": {
            "_model_module": "@jupyter-widgets/base",
            "_model_module_version": "1.2.0",
            "_model_name": "LayoutModel",
            "_view_count": null,
            "_view_module": "@jupyter-widgets/base",
            "_view_module_version": "1.2.0",
            "_view_name": "LayoutView",
            "align_content": null,
            "align_items": null,
            "align_self": null,
            "border": null,
            "bottom": null,
            "display": null,
            "flex": null,
            "flex_flow": null,
            "grid_area": null,
            "grid_auto_columns": null,
            "grid_auto_flow": null,
            "grid_auto_rows": null,
            "grid_column": null,
            "grid_gap": null,
            "grid_row": null,
            "grid_template_areas": null,
            "grid_template_columns": null,
            "grid_template_rows": null,
            "height": null,
            "justify_content": null,
            "justify_items": null,
            "left": null,
            "margin": null,
            "max_height": null,
            "max_width": null,
            "min_height": null,
            "min_width": null,
            "object_fit": null,
            "object_position": null,
            "order": null,
            "overflow": null,
            "overflow_x": null,
            "overflow_y": null,
            "padding": null,
            "right": null,
            "top": null,
            "visibility": null,
            "width": null
          }
        },
        "9ebd947cc7d74c548ce775bd570de0e8": {
          "model_module": "@jupyter-widgets/base",
          "model_name": "LayoutModel",
          "model_module_version": "1.2.0",
          "state": {
            "_model_module": "@jupyter-widgets/base",
            "_model_module_version": "1.2.0",
            "_model_name": "LayoutModel",
            "_view_count": null,
            "_view_module": "@jupyter-widgets/base",
            "_view_module_version": "1.2.0",
            "_view_name": "LayoutView",
            "align_content": null,
            "align_items": null,
            "align_self": null,
            "border": null,
            "bottom": null,
            "display": null,
            "flex": null,
            "flex_flow": null,
            "grid_area": null,
            "grid_auto_columns": null,
            "grid_auto_flow": null,
            "grid_auto_rows": null,
            "grid_column": null,
            "grid_gap": null,
            "grid_row": null,
            "grid_template_areas": null,
            "grid_template_columns": null,
            "grid_template_rows": null,
            "height": null,
            "justify_content": null,
            "justify_items": null,
            "left": null,
            "margin": null,
            "max_height": null,
            "max_width": null,
            "min_height": null,
            "min_width": null,
            "object_fit": null,
            "object_position": null,
            "order": null,
            "overflow": null,
            "overflow_x": null,
            "overflow_y": null,
            "padding": null,
            "right": null,
            "top": null,
            "visibility": null,
            "width": null
          }
        },
        "66010f7667224c91b427abcd83dab89a": {
          "model_module": "@jupyter-widgets/controls",
          "model_name": "DescriptionStyleModel",
          "model_module_version": "1.5.0",
          "state": {
            "_model_module": "@jupyter-widgets/controls",
            "_model_module_version": "1.5.0",
            "_model_name": "DescriptionStyleModel",
            "_view_count": null,
            "_view_module": "@jupyter-widgets/base",
            "_view_module_version": "1.2.0",
            "_view_name": "StyleView",
            "description_width": ""
          }
        },
        "2d9d1a222cc64ef390c81c3a6b57da9b": {
          "model_module": "@jupyter-widgets/base",
          "model_name": "LayoutModel",
          "model_module_version": "1.2.0",
          "state": {
            "_model_module": "@jupyter-widgets/base",
            "_model_module_version": "1.2.0",
            "_model_name": "LayoutModel",
            "_view_count": null,
            "_view_module": "@jupyter-widgets/base",
            "_view_module_version": "1.2.0",
            "_view_name": "LayoutView",
            "align_content": null,
            "align_items": null,
            "align_self": null,
            "border": null,
            "bottom": null,
            "display": null,
            "flex": null,
            "flex_flow": null,
            "grid_area": null,
            "grid_auto_columns": null,
            "grid_auto_flow": null,
            "grid_auto_rows": null,
            "grid_column": null,
            "grid_gap": null,
            "grid_row": null,
            "grid_template_areas": null,
            "grid_template_columns": null,
            "grid_template_rows": null,
            "height": null,
            "justify_content": null,
            "justify_items": null,
            "left": null,
            "margin": null,
            "max_height": null,
            "max_width": null,
            "min_height": null,
            "min_width": null,
            "object_fit": null,
            "object_position": null,
            "order": null,
            "overflow": null,
            "overflow_x": null,
            "overflow_y": null,
            "padding": null,
            "right": null,
            "top": null,
            "visibility": null,
            "width": null
          }
        },
        "19157f74fe7c4ab68012c42c6715d6c7": {
          "model_module": "@jupyter-widgets/controls",
          "model_name": "ProgressStyleModel",
          "model_module_version": "1.5.0",
          "state": {
            "_model_module": "@jupyter-widgets/controls",
            "_model_module_version": "1.5.0",
            "_model_name": "ProgressStyleModel",
            "_view_count": null,
            "_view_module": "@jupyter-widgets/base",
            "_view_module_version": "1.2.0",
            "_view_name": "StyleView",
            "bar_color": null,
            "description_width": ""
          }
        },
        "a06e08952c3a4798b262cc006313da35": {
          "model_module": "@jupyter-widgets/base",
          "model_name": "LayoutModel",
          "model_module_version": "1.2.0",
          "state": {
            "_model_module": "@jupyter-widgets/base",
            "_model_module_version": "1.2.0",
            "_model_name": "LayoutModel",
            "_view_count": null,
            "_view_module": "@jupyter-widgets/base",
            "_view_module_version": "1.2.0",
            "_view_name": "LayoutView",
            "align_content": null,
            "align_items": null,
            "align_self": null,
            "border": null,
            "bottom": null,
            "display": null,
            "flex": null,
            "flex_flow": null,
            "grid_area": null,
            "grid_auto_columns": null,
            "grid_auto_flow": null,
            "grid_auto_rows": null,
            "grid_column": null,
            "grid_gap": null,
            "grid_row": null,
            "grid_template_areas": null,
            "grid_template_columns": null,
            "grid_template_rows": null,
            "height": null,
            "justify_content": null,
            "justify_items": null,
            "left": null,
            "margin": null,
            "max_height": null,
            "max_width": null,
            "min_height": null,
            "min_width": null,
            "object_fit": null,
            "object_position": null,
            "order": null,
            "overflow": null,
            "overflow_x": null,
            "overflow_y": null,
            "padding": null,
            "right": null,
            "top": null,
            "visibility": null,
            "width": null
          }
        },
        "d1eeb3620cc2431180dd623033f900cf": {
          "model_module": "@jupyter-widgets/controls",
          "model_name": "DescriptionStyleModel",
          "model_module_version": "1.5.0",
          "state": {
            "_model_module": "@jupyter-widgets/controls",
            "_model_module_version": "1.5.0",
            "_model_name": "DescriptionStyleModel",
            "_view_count": null,
            "_view_module": "@jupyter-widgets/base",
            "_view_module_version": "1.2.0",
            "_view_name": "StyleView",
            "description_width": ""
          }
        },
        "3db5863229f546c29fccb3ca58e732c6": {
          "model_module": "@jupyter-widgets/controls",
          "model_name": "HBoxModel",
          "model_module_version": "1.5.0",
          "state": {
            "_dom_classes": [],
            "_model_module": "@jupyter-widgets/controls",
            "_model_module_version": "1.5.0",
            "_model_name": "HBoxModel",
            "_view_count": null,
            "_view_module": "@jupyter-widgets/controls",
            "_view_module_version": "1.5.0",
            "_view_name": "HBoxView",
            "box_style": "",
            "children": [
              "IPY_MODEL_c1f43cfca646441681df142f95f8dd51",
              "IPY_MODEL_4bce9bc1e0c048cdabd4be0c26cbe2d6",
              "IPY_MODEL_37b41c101f0644219af9147251642790"
            ],
            "layout": "IPY_MODEL_1319eefdc41a4746964574a483dc22ac"
          }
        },
        "c1f43cfca646441681df142f95f8dd51": {
          "model_module": "@jupyter-widgets/controls",
          "model_name": "HTMLModel",
          "model_module_version": "1.5.0",
          "state": {
            "_dom_classes": [],
            "_model_module": "@jupyter-widgets/controls",
            "_model_module_version": "1.5.0",
            "_model_name": "HTMLModel",
            "_view_count": null,
            "_view_module": "@jupyter-widgets/controls",
            "_view_module_version": "1.5.0",
            "_view_name": "HTMLView",
            "description": "",
            "description_tooltip": null,
            "layout": "IPY_MODEL_7b19a7e76851487cb37b5e39ec7a24a3",
            "placeholder": "​",
            "style": "IPY_MODEL_ac0f845894844cca8c3ed8fa07d63aa7",
            "value": "Downloading: 100%"
          }
        },
        "4bce9bc1e0c048cdabd4be0c26cbe2d6": {
          "model_module": "@jupyter-widgets/controls",
          "model_name": "FloatProgressModel",
          "model_module_version": "1.5.0",
          "state": {
            "_dom_classes": [],
            "_model_module": "@jupyter-widgets/controls",
            "_model_module_version": "1.5.0",
            "_model_name": "FloatProgressModel",
            "_view_count": null,
            "_view_module": "@jupyter-widgets/controls",
            "_view_module_version": "1.5.0",
            "_view_name": "ProgressView",
            "bar_style": "success",
            "description": "",
            "description_tooltip": null,
            "layout": "IPY_MODEL_ad96d28ed96a4ac99ef9388501b0362a",
            "max": 112,
            "min": 0,
            "orientation": "horizontal",
            "style": "IPY_MODEL_aac6a2c914a042ed99c5661693ed8f1c",
            "value": 112
          }
        },
        "37b41c101f0644219af9147251642790": {
          "model_module": "@jupyter-widgets/controls",
          "model_name": "HTMLModel",
          "model_module_version": "1.5.0",
          "state": {
            "_dom_classes": [],
            "_model_module": "@jupyter-widgets/controls",
            "_model_module_version": "1.5.0",
            "_model_name": "HTMLModel",
            "_view_count": null,
            "_view_module": "@jupyter-widgets/controls",
            "_view_module_version": "1.5.0",
            "_view_name": "HTMLView",
            "description": "",
            "description_tooltip": null,
            "layout": "IPY_MODEL_e81ec827ab6b4b93a241a39cf7a534ce",
            "placeholder": "​",
            "style": "IPY_MODEL_1bb7ceb4414a4de3abed515d55c4c927",
            "value": " 112/112 [00:00&lt;00:00, 662B/s]"
          }
        },
        "1319eefdc41a4746964574a483dc22ac": {
          "model_module": "@jupyter-widgets/base",
          "model_name": "LayoutModel",
          "model_module_version": "1.2.0",
          "state": {
            "_model_module": "@jupyter-widgets/base",
            "_model_module_version": "1.2.0",
            "_model_name": "LayoutModel",
            "_view_count": null,
            "_view_module": "@jupyter-widgets/base",
            "_view_module_version": "1.2.0",
            "_view_name": "LayoutView",
            "align_content": null,
            "align_items": null,
            "align_self": null,
            "border": null,
            "bottom": null,
            "display": null,
            "flex": null,
            "flex_flow": null,
            "grid_area": null,
            "grid_auto_columns": null,
            "grid_auto_flow": null,
            "grid_auto_rows": null,
            "grid_column": null,
            "grid_gap": null,
            "grid_row": null,
            "grid_template_areas": null,
            "grid_template_columns": null,
            "grid_template_rows": null,
            "height": null,
            "justify_content": null,
            "justify_items": null,
            "left": null,
            "margin": null,
            "max_height": null,
            "max_width": null,
            "min_height": null,
            "min_width": null,
            "object_fit": null,
            "object_position": null,
            "order": null,
            "overflow": null,
            "overflow_x": null,
            "overflow_y": null,
            "padding": null,
            "right": null,
            "top": null,
            "visibility": null,
            "width": null
          }
        },
        "7b19a7e76851487cb37b5e39ec7a24a3": {
          "model_module": "@jupyter-widgets/base",
          "model_name": "LayoutModel",
          "model_module_version": "1.2.0",
          "state": {
            "_model_module": "@jupyter-widgets/base",
            "_model_module_version": "1.2.0",
            "_model_name": "LayoutModel",
            "_view_count": null,
            "_view_module": "@jupyter-widgets/base",
            "_view_module_version": "1.2.0",
            "_view_name": "LayoutView",
            "align_content": null,
            "align_items": null,
            "align_self": null,
            "border": null,
            "bottom": null,
            "display": null,
            "flex": null,
            "flex_flow": null,
            "grid_area": null,
            "grid_auto_columns": null,
            "grid_auto_flow": null,
            "grid_auto_rows": null,
            "grid_column": null,
            "grid_gap": null,
            "grid_row": null,
            "grid_template_areas": null,
            "grid_template_columns": null,
            "grid_template_rows": null,
            "height": null,
            "justify_content": null,
            "justify_items": null,
            "left": null,
            "margin": null,
            "max_height": null,
            "max_width": null,
            "min_height": null,
            "min_width": null,
            "object_fit": null,
            "object_position": null,
            "order": null,
            "overflow": null,
            "overflow_x": null,
            "overflow_y": null,
            "padding": null,
            "right": null,
            "top": null,
            "visibility": null,
            "width": null
          }
        },
        "ac0f845894844cca8c3ed8fa07d63aa7": {
          "model_module": "@jupyter-widgets/controls",
          "model_name": "DescriptionStyleModel",
          "model_module_version": "1.5.0",
          "state": {
            "_model_module": "@jupyter-widgets/controls",
            "_model_module_version": "1.5.0",
            "_model_name": "DescriptionStyleModel",
            "_view_count": null,
            "_view_module": "@jupyter-widgets/base",
            "_view_module_version": "1.2.0",
            "_view_name": "StyleView",
            "description_width": ""
          }
        },
        "ad96d28ed96a4ac99ef9388501b0362a": {
          "model_module": "@jupyter-widgets/base",
          "model_name": "LayoutModel",
          "model_module_version": "1.2.0",
          "state": {
            "_model_module": "@jupyter-widgets/base",
            "_model_module_version": "1.2.0",
            "_model_name": "LayoutModel",
            "_view_count": null,
            "_view_module": "@jupyter-widgets/base",
            "_view_module_version": "1.2.0",
            "_view_name": "LayoutView",
            "align_content": null,
            "align_items": null,
            "align_self": null,
            "border": null,
            "bottom": null,
            "display": null,
            "flex": null,
            "flex_flow": null,
            "grid_area": null,
            "grid_auto_columns": null,
            "grid_auto_flow": null,
            "grid_auto_rows": null,
            "grid_column": null,
            "grid_gap": null,
            "grid_row": null,
            "grid_template_areas": null,
            "grid_template_columns": null,
            "grid_template_rows": null,
            "height": null,
            "justify_content": null,
            "justify_items": null,
            "left": null,
            "margin": null,
            "max_height": null,
            "max_width": null,
            "min_height": null,
            "min_width": null,
            "object_fit": null,
            "object_position": null,
            "order": null,
            "overflow": null,
            "overflow_x": null,
            "overflow_y": null,
            "padding": null,
            "right": null,
            "top": null,
            "visibility": null,
            "width": null
          }
        },
        "aac6a2c914a042ed99c5661693ed8f1c": {
          "model_module": "@jupyter-widgets/controls",
          "model_name": "ProgressStyleModel",
          "model_module_version": "1.5.0",
          "state": {
            "_model_module": "@jupyter-widgets/controls",
            "_model_module_version": "1.5.0",
            "_model_name": "ProgressStyleModel",
            "_view_count": null,
            "_view_module": "@jupyter-widgets/base",
            "_view_module_version": "1.2.0",
            "_view_name": "StyleView",
            "bar_color": null,
            "description_width": ""
          }
        },
        "e81ec827ab6b4b93a241a39cf7a534ce": {
          "model_module": "@jupyter-widgets/base",
          "model_name": "LayoutModel",
          "model_module_version": "1.2.0",
          "state": {
            "_model_module": "@jupyter-widgets/base",
            "_model_module_version": "1.2.0",
            "_model_name": "LayoutModel",
            "_view_count": null,
            "_view_module": "@jupyter-widgets/base",
            "_view_module_version": "1.2.0",
            "_view_name": "LayoutView",
            "align_content": null,
            "align_items": null,
            "align_self": null,
            "border": null,
            "bottom": null,
            "display": null,
            "flex": null,
            "flex_flow": null,
            "grid_area": null,
            "grid_auto_columns": null,
            "grid_auto_flow": null,
            "grid_auto_rows": null,
            "grid_column": null,
            "grid_gap": null,
            "grid_row": null,
            "grid_template_areas": null,
            "grid_template_columns": null,
            "grid_template_rows": null,
            "height": null,
            "justify_content": null,
            "justify_items": null,
            "left": null,
            "margin": null,
            "max_height": null,
            "max_width": null,
            "min_height": null,
            "min_width": null,
            "object_fit": null,
            "object_position": null,
            "order": null,
            "overflow": null,
            "overflow_x": null,
            "overflow_y": null,
            "padding": null,
            "right": null,
            "top": null,
            "visibility": null,
            "width": null
          }
        },
        "1bb7ceb4414a4de3abed515d55c4c927": {
          "model_module": "@jupyter-widgets/controls",
          "model_name": "DescriptionStyleModel",
          "model_module_version": "1.5.0",
          "state": {
            "_model_module": "@jupyter-widgets/controls",
            "_model_module_version": "1.5.0",
            "_model_name": "DescriptionStyleModel",
            "_view_count": null,
            "_view_module": "@jupyter-widgets/base",
            "_view_module_version": "1.2.0",
            "_view_name": "StyleView",
            "description_width": ""
          }
        },
        "878d3334a7f444438bad4988f83641e8": {
          "model_module": "@jupyter-widgets/controls",
          "model_name": "HBoxModel",
          "model_module_version": "1.5.0",
          "state": {
            "_dom_classes": [],
            "_model_module": "@jupyter-widgets/controls",
            "_model_module_version": "1.5.0",
            "_model_name": "HBoxModel",
            "_view_count": null,
            "_view_module": "@jupyter-widgets/controls",
            "_view_module_version": "1.5.0",
            "_view_name": "HBoxView",
            "box_style": "",
            "children": [
              "IPY_MODEL_e8493267820b4e00b8a29c0ef5ba17cf",
              "IPY_MODEL_272e86f867e14f89a1c66aaee81ce22b",
              "IPY_MODEL_fbc61bf15cf448078184b8e7e0d1df38"
            ],
            "layout": "IPY_MODEL_4c5fcdde288d4f92903f807652c20603"
          }
        },
        "e8493267820b4e00b8a29c0ef5ba17cf": {
          "model_module": "@jupyter-widgets/controls",
          "model_name": "HTMLModel",
          "model_module_version": "1.5.0",
          "state": {
            "_dom_classes": [],
            "_model_module": "@jupyter-widgets/controls",
            "_model_module_version": "1.5.0",
            "_model_name": "HTMLModel",
            "_view_count": null,
            "_view_module": "@jupyter-widgets/controls",
            "_view_module_version": "1.5.0",
            "_view_name": "HTMLView",
            "description": "",
            "description_tooltip": null,
            "layout": "IPY_MODEL_05d1fc4955894fa9abfb8c09230bea0a",
            "placeholder": "​",
            "style": "IPY_MODEL_73a2c3eac08c49f39da720093920f668",
            "value": "Downloading: 100%"
          }
        },
        "272e86f867e14f89a1c66aaee81ce22b": {
          "model_module": "@jupyter-widgets/controls",
          "model_name": "FloatProgressModel",
          "model_module_version": "1.5.0",
          "state": {
            "_dom_classes": [],
            "_model_module": "@jupyter-widgets/controls",
            "_model_module_version": "1.5.0",
            "_model_name": "FloatProgressModel",
            "_view_count": null,
            "_view_module": "@jupyter-widgets/controls",
            "_view_module_version": "1.5.0",
            "_view_name": "ProgressView",
            "bar_style": "success",
            "description": "",
            "description_tooltip": null,
            "layout": "IPY_MODEL_dae0be5fdc5145a281babc6295dd5460",
            "max": 580732384,
            "min": 0,
            "orientation": "horizontal",
            "style": "IPY_MODEL_99d8febce7a7442481ce8989a970538c",
            "value": 580732384
          }
        },
        "fbc61bf15cf448078184b8e7e0d1df38": {
          "model_module": "@jupyter-widgets/controls",
          "model_name": "HTMLModel",
          "model_module_version": "1.5.0",
          "state": {
            "_dom_classes": [],
            "_model_module": "@jupyter-widgets/controls",
            "_model_module_version": "1.5.0",
            "_model_name": "HTMLModel",
            "_view_count": null,
            "_view_module": "@jupyter-widgets/controls",
            "_view_module_version": "1.5.0",
            "_view_name": "HTMLView",
            "description": "",
            "description_tooltip": null,
            "layout": "IPY_MODEL_9d349d71e51047a698c37633669e4db3",
            "placeholder": "​",
            "style": "IPY_MODEL_c981b7f7acf54405a9f5fa2801fe9c99",
            "value": " 554M/554M [00:10&lt;00:00, 59.8MB/s]"
          }
        },
        "4c5fcdde288d4f92903f807652c20603": {
          "model_module": "@jupyter-widgets/base",
          "model_name": "LayoutModel",
          "model_module_version": "1.2.0",
          "state": {
            "_model_module": "@jupyter-widgets/base",
            "_model_module_version": "1.2.0",
            "_model_name": "LayoutModel",
            "_view_count": null,
            "_view_module": "@jupyter-widgets/base",
            "_view_module_version": "1.2.0",
            "_view_name": "LayoutView",
            "align_content": null,
            "align_items": null,
            "align_self": null,
            "border": null,
            "bottom": null,
            "display": null,
            "flex": null,
            "flex_flow": null,
            "grid_area": null,
            "grid_auto_columns": null,
            "grid_auto_flow": null,
            "grid_auto_rows": null,
            "grid_column": null,
            "grid_gap": null,
            "grid_row": null,
            "grid_template_areas": null,
            "grid_template_columns": null,
            "grid_template_rows": null,
            "height": null,
            "justify_content": null,
            "justify_items": null,
            "left": null,
            "margin": null,
            "max_height": null,
            "max_width": null,
            "min_height": null,
            "min_width": null,
            "object_fit": null,
            "object_position": null,
            "order": null,
            "overflow": null,
            "overflow_x": null,
            "overflow_y": null,
            "padding": null,
            "right": null,
            "top": null,
            "visibility": null,
            "width": null
          }
        },
        "05d1fc4955894fa9abfb8c09230bea0a": {
          "model_module": "@jupyter-widgets/base",
          "model_name": "LayoutModel",
          "model_module_version": "1.2.0",
          "state": {
            "_model_module": "@jupyter-widgets/base",
            "_model_module_version": "1.2.0",
            "_model_name": "LayoutModel",
            "_view_count": null,
            "_view_module": "@jupyter-widgets/base",
            "_view_module_version": "1.2.0",
            "_view_name": "LayoutView",
            "align_content": null,
            "align_items": null,
            "align_self": null,
            "border": null,
            "bottom": null,
            "display": null,
            "flex": null,
            "flex_flow": null,
            "grid_area": null,
            "grid_auto_columns": null,
            "grid_auto_flow": null,
            "grid_auto_rows": null,
            "grid_column": null,
            "grid_gap": null,
            "grid_row": null,
            "grid_template_areas": null,
            "grid_template_columns": null,
            "grid_template_rows": null,
            "height": null,
            "justify_content": null,
            "justify_items": null,
            "left": null,
            "margin": null,
            "max_height": null,
            "max_width": null,
            "min_height": null,
            "min_width": null,
            "object_fit": null,
            "object_position": null,
            "order": null,
            "overflow": null,
            "overflow_x": null,
            "overflow_y": null,
            "padding": null,
            "right": null,
            "top": null,
            "visibility": null,
            "width": null
          }
        },
        "73a2c3eac08c49f39da720093920f668": {
          "model_module": "@jupyter-widgets/controls",
          "model_name": "DescriptionStyleModel",
          "model_module_version": "1.5.0",
          "state": {
            "_model_module": "@jupyter-widgets/controls",
            "_model_module_version": "1.5.0",
            "_model_name": "DescriptionStyleModel",
            "_view_count": null,
            "_view_module": "@jupyter-widgets/base",
            "_view_module_version": "1.2.0",
            "_view_name": "StyleView",
            "description_width": ""
          }
        },
        "dae0be5fdc5145a281babc6295dd5460": {
          "model_module": "@jupyter-widgets/base",
          "model_name": "LayoutModel",
          "model_module_version": "1.2.0",
          "state": {
            "_model_module": "@jupyter-widgets/base",
            "_model_module_version": "1.2.0",
            "_model_name": "LayoutModel",
            "_view_count": null,
            "_view_module": "@jupyter-widgets/base",
            "_view_module_version": "1.2.0",
            "_view_name": "LayoutView",
            "align_content": null,
            "align_items": null,
            "align_self": null,
            "border": null,
            "bottom": null,
            "display": null,
            "flex": null,
            "flex_flow": null,
            "grid_area": null,
            "grid_auto_columns": null,
            "grid_auto_flow": null,
            "grid_auto_rows": null,
            "grid_column": null,
            "grid_gap": null,
            "grid_row": null,
            "grid_template_areas": null,
            "grid_template_columns": null,
            "grid_template_rows": null,
            "height": null,
            "justify_content": null,
            "justify_items": null,
            "left": null,
            "margin": null,
            "max_height": null,
            "max_width": null,
            "min_height": null,
            "min_width": null,
            "object_fit": null,
            "object_position": null,
            "order": null,
            "overflow": null,
            "overflow_x": null,
            "overflow_y": null,
            "padding": null,
            "right": null,
            "top": null,
            "visibility": null,
            "width": null
          }
        },
        "99d8febce7a7442481ce8989a970538c": {
          "model_module": "@jupyter-widgets/controls",
          "model_name": "ProgressStyleModel",
          "model_module_version": "1.5.0",
          "state": {
            "_model_module": "@jupyter-widgets/controls",
            "_model_module_version": "1.5.0",
            "_model_name": "ProgressStyleModel",
            "_view_count": null,
            "_view_module": "@jupyter-widgets/base",
            "_view_module_version": "1.2.0",
            "_view_name": "StyleView",
            "bar_color": null,
            "description_width": ""
          }
        },
        "9d349d71e51047a698c37633669e4db3": {
          "model_module": "@jupyter-widgets/base",
          "model_name": "LayoutModel",
          "model_module_version": "1.2.0",
          "state": {
            "_model_module": "@jupyter-widgets/base",
            "_model_module_version": "1.2.0",
            "_model_name": "LayoutModel",
            "_view_count": null,
            "_view_module": "@jupyter-widgets/base",
            "_view_module_version": "1.2.0",
            "_view_name": "LayoutView",
            "align_content": null,
            "align_items": null,
            "align_self": null,
            "border": null,
            "bottom": null,
            "display": null,
            "flex": null,
            "flex_flow": null,
            "grid_area": null,
            "grid_auto_columns": null,
            "grid_auto_flow": null,
            "grid_auto_rows": null,
            "grid_column": null,
            "grid_gap": null,
            "grid_row": null,
            "grid_template_areas": null,
            "grid_template_columns": null,
            "grid_template_rows": null,
            "height": null,
            "justify_content": null,
            "justify_items": null,
            "left": null,
            "margin": null,
            "max_height": null,
            "max_width": null,
            "min_height": null,
            "min_width": null,
            "object_fit": null,
            "object_position": null,
            "order": null,
            "overflow": null,
            "overflow_x": null,
            "overflow_y": null,
            "padding": null,
            "right": null,
            "top": null,
            "visibility": null,
            "width": null
          }
        },
        "c981b7f7acf54405a9f5fa2801fe9c99": {
          "model_module": "@jupyter-widgets/controls",
          "model_name": "DescriptionStyleModel",
          "model_module_version": "1.5.0",
          "state": {
            "_model_module": "@jupyter-widgets/controls",
            "_model_module_version": "1.5.0",
            "_model_name": "DescriptionStyleModel",
            "_view_count": null,
            "_view_module": "@jupyter-widgets/base",
            "_view_module_version": "1.2.0",
            "_view_name": "StyleView",
            "description_width": ""
          }
        }
      }
    }
  },
  "cells": [
    {
      "cell_type": "markdown",
      "source": [
        "#Install packages"
      ],
      "metadata": {
        "id": "m9shJ0f28QQ8"
      }
    },
    {
      "cell_type": "code",
      "execution_count": 1,
      "metadata": {
        "colab": {
          "base_uri": "https://localhost:8080/"
        },
        "id": "2bBUzp_b8Ipj",
        "outputId": "962105bd-5d00-41a5-ce0e-ff2678864557"
      },
      "outputs": [
        {
          "output_type": "stream",
          "name": "stdout",
          "text": [
            "Looking in indexes: https://pypi.org/simple, https://us-python.pkg.dev/colab-wheels/public/simple/\n",
            "Collecting tensorflow-addons\n",
            "  Downloading tensorflow_addons-0.17.1-cp37-cp37m-manylinux_2_17_x86_64.manylinux2014_x86_64.whl (1.1 MB)\n",
            "\u001b[K     |████████████████████████████████| 1.1 MB 36.2 MB/s \n",
            "\u001b[?25hRequirement already satisfied: typeguard>=2.7 in /usr/local/lib/python3.7/dist-packages (from tensorflow-addons) (2.7.1)\n",
            "Requirement already satisfied: packaging in /usr/local/lib/python3.7/dist-packages (from tensorflow-addons) (21.3)\n",
            "Requirement already satisfied: pyparsing!=3.0.5,>=2.0.2 in /usr/local/lib/python3.7/dist-packages (from packaging->tensorflow-addons) (3.0.9)\n",
            "Installing collected packages: tensorflow-addons\n",
            "Successfully installed tensorflow-addons-0.17.1\n",
            "Looking in indexes: https://pypi.org/simple, https://us-python.pkg.dev/colab-wheels/public/simple/\n",
            "Collecting transformers\n",
            "  Downloading transformers-4.20.0-py3-none-any.whl (4.4 MB)\n",
            "\u001b[K     |████████████████████████████████| 4.4 MB 39.8 MB/s \n",
            "\u001b[?25hRequirement already satisfied: packaging>=20.0 in /usr/local/lib/python3.7/dist-packages (from transformers) (21.3)\n",
            "Collecting tokenizers!=0.11.3,<0.13,>=0.11.1\n",
            "  Downloading tokenizers-0.12.1-cp37-cp37m-manylinux_2_12_x86_64.manylinux2010_x86_64.whl (6.6 MB)\n",
            "\u001b[K     |████████████████████████████████| 6.6 MB 57.9 MB/s \n",
            "\u001b[?25hRequirement already satisfied: tqdm>=4.27 in /usr/local/lib/python3.7/dist-packages (from transformers) (4.64.0)\n",
            "Requirement already satisfied: numpy>=1.17 in /usr/local/lib/python3.7/dist-packages (from transformers) (1.21.6)\n",
            "Requirement already satisfied: requests in /usr/local/lib/python3.7/dist-packages (from transformers) (2.23.0)\n",
            "Collecting pyyaml>=5.1\n",
            "  Downloading PyYAML-6.0-cp37-cp37m-manylinux_2_5_x86_64.manylinux1_x86_64.manylinux_2_12_x86_64.manylinux2010_x86_64.whl (596 kB)\n",
            "\u001b[K     |████████████████████████████████| 596 kB 56.5 MB/s \n",
            "\u001b[?25hRequirement already satisfied: filelock in /usr/local/lib/python3.7/dist-packages (from transformers) (3.7.1)\n",
            "Collecting huggingface-hub<1.0,>=0.1.0\n",
            "  Downloading huggingface_hub-0.7.0-py3-none-any.whl (86 kB)\n",
            "\u001b[K     |████████████████████████████████| 86 kB 2.5 MB/s \n",
            "\u001b[?25hRequirement already satisfied: regex!=2019.12.17 in /usr/local/lib/python3.7/dist-packages (from transformers) (2022.6.2)\n",
            "Requirement already satisfied: importlib-metadata in /usr/local/lib/python3.7/dist-packages (from transformers) (4.11.4)\n",
            "Requirement already satisfied: typing-extensions>=3.7.4.3 in /usr/local/lib/python3.7/dist-packages (from huggingface-hub<1.0,>=0.1.0->transformers) (4.2.0)\n",
            "Requirement already satisfied: pyparsing!=3.0.5,>=2.0.2 in /usr/local/lib/python3.7/dist-packages (from packaging>=20.0->transformers) (3.0.9)\n",
            "Requirement already satisfied: zipp>=0.5 in /usr/local/lib/python3.7/dist-packages (from importlib-metadata->transformers) (3.8.0)\n",
            "Requirement already satisfied: certifi>=2017.4.17 in /usr/local/lib/python3.7/dist-packages (from requests->transformers) (2022.5.18.1)\n",
            "Requirement already satisfied: idna<3,>=2.5 in /usr/local/lib/python3.7/dist-packages (from requests->transformers) (2.10)\n",
            "Requirement already satisfied: chardet<4,>=3.0.2 in /usr/local/lib/python3.7/dist-packages (from requests->transformers) (3.0.4)\n",
            "Requirement already satisfied: urllib3!=1.25.0,!=1.25.1,<1.26,>=1.21.1 in /usr/local/lib/python3.7/dist-packages (from requests->transformers) (1.24.3)\n",
            "Installing collected packages: pyyaml, tokenizers, huggingface-hub, transformers\n",
            "  Attempting uninstall: pyyaml\n",
            "    Found existing installation: PyYAML 3.13\n",
            "    Uninstalling PyYAML-3.13:\n",
            "      Successfully uninstalled PyYAML-3.13\n",
            "Successfully installed huggingface-hub-0.7.0 pyyaml-6.0 tokenizers-0.12.1 transformers-4.20.0\n",
            "Looking in indexes: https://pypi.org/simple, https://us-python.pkg.dev/colab-wheels/public/simple/\n",
            "Collecting gensim==3.8.3\n",
            "  Downloading gensim-3.8.3-cp37-cp37m-manylinux1_x86_64.whl (24.2 MB)\n",
            "\u001b[K     |████████████████████████████████| 24.2 MB 3.3 MB/s \n",
            "\u001b[?25hRequirement already satisfied: scipy>=0.18.1 in /usr/local/lib/python3.7/dist-packages (from gensim==3.8.3) (1.4.1)\n",
            "Requirement already satisfied: six>=1.5.0 in /usr/local/lib/python3.7/dist-packages (from gensim==3.8.3) (1.15.0)\n",
            "Requirement already satisfied: numpy>=1.11.3 in /usr/local/lib/python3.7/dist-packages (from gensim==3.8.3) (1.21.6)\n",
            "Requirement already satisfied: smart-open>=1.8.1 in /usr/local/lib/python3.7/dist-packages (from gensim==3.8.3) (6.0.0)\n",
            "Installing collected packages: gensim\n",
            "  Attempting uninstall: gensim\n",
            "    Found existing installation: gensim 3.6.0\n",
            "    Uninstalling gensim-3.6.0:\n",
            "      Successfully uninstalled gensim-3.6.0\n",
            "Successfully installed gensim-3.8.3\n",
            "\u001b[K     |████████████████████████████████| 1.8 MB 14.3 MB/s \n",
            "\u001b[K     |████████████████████████████████| 99 kB 5.7 MB/s \n",
            "\u001b[K     |████████████████████████████████| 92 kB 10.1 MB/s \n",
            "\u001b[K     |████████████████████████████████| 1.2 MB 40.6 MB/s \n",
            "\u001b[K     |████████████████████████████████| 352 kB 12.4 MB/s \n",
            "\u001b[K     |████████████████████████████████| 43 kB 1.5 MB/s \n",
            "\u001b[K     |████████████████████████████████| 48.3 MB 110 kB/s \n",
            "\u001b[K     |████████████████████████████████| 4.6 MB 50.4 MB/s \n",
            "\u001b[K     |████████████████████████████████| 237 kB 49.0 MB/s \n",
            "\u001b[K     |████████████████████████████████| 511.7 MB 5.7 kB/s \n",
            "\u001b[K     |████████████████████████████████| 511.7 MB 4.5 kB/s \n",
            "\u001b[K     |████████████████████████████████| 4.9 MB 41.1 MB/s \n",
            "\u001b[?25h  Building wheel for py-cpuinfo (setup.py) ... \u001b[?25l\u001b[?25hdone\n",
            "  Building wheel for seqeval (setup.py) ... \u001b[?25l\u001b[?25hdone\n"
          ]
        }
      ],
      "source": [
        "!pip install tensorflow-addons\n",
        "!pip install transformers\n",
        "!pip install --upgrade gensim==3.8.3\n",
        "!pip install -q tf-models-official==2.7.0"
      ]
    },
    {
      "cell_type": "markdown",
      "source": [
        "#Import libraries"
      ],
      "metadata": {
        "id": "3EF6XVC08aEG"
      }
    },
    {
      "cell_type": "code",
      "source": [
        "import tensorflow as tf\n",
        "import tensorflow_addons as tfa\n",
        "import pickle as pk\n",
        "import pandas as pd\n",
        "import numpy as np\n",
        "import random, os\n",
        "\n",
        "from transformers import TFAutoModel, AutoTokenizer\n",
        "from google.colab import drive\n",
        "from pathlib import Path\n",
        "\n",
        "\n",
        "from tensorflow.keras.preprocessing.text import Tokenizer\n",
        "from tensorflow.keras.preprocessing.sequence import pad_sequences\n",
        "from tensorflow.keras.layers import Input, Dense\n",
        "from tensorflow.keras.utils import to_categorical\n",
        "from transformers import AutoModel, AutoTokenizer, TFAutoModel\n",
        "\n",
        "drive.mount(\"/content/drive\", force_remount=True)"
      ],
      "metadata": {
        "colab": {
          "base_uri": "https://localhost:8080/"
        },
        "id": "xXQYbNG48XGR",
        "outputId": "5abe9c10-aadd-4672-c2bb-e82b34006ee2"
      },
      "execution_count": 2,
      "outputs": [
        {
          "output_type": "stream",
          "name": "stdout",
          "text": [
            "Mounted at /content/drive\n"
          ]
        }
      ]
    },
    {
      "cell_type": "markdown",
      "source": [
        "#Load datasets"
      ],
      "metadata": {
        "id": "a4PVglIy8hmE"
      }
    },
    {
      "cell_type": "code",
      "source": [
        "FB_RO_OFFENSE_PATH = Path('/content/drive/MyDrive/Licenta_Busuioc_Gabriel-Razvan_2022/corpora/FB-RO-Offense')\n",
        "RO_OFFENSE_PATH = Path('/content/drive/MyDrive/Licenta_Busuioc_Gabriel-Razvan_2022/corpora/RO-Offense')\n",
        "\n",
        "df_trainRO = pd.read_csv(RO_OFFENSE_PATH / 'train_internal.csv')\n",
        "df_testRO = pd.read_csv(RO_OFFENSE_PATH / 'test.csv')\n",
        "df_validateRO = pd.read_csv(RO_OFFENSE_PATH / 'validation_internal.csv')\n",
        "df_trainFBRO = pd.read_csv(FB_RO_OFFENSE_PATH / 'train_internal.csv')\n",
        "df_testFBRO = pd.read_csv(FB_RO_OFFENSE_PATH / 'test.csv')\n",
        "df_validateFBRO = pd.read_csv(FB_RO_OFFENSE_PATH / 'validation_internal.csv')\n",
        "\n",
        "labelCodificationMap = {\"OTHER\":0, \"PROFANITY\":1, \"INSULT\":2, \"ABUSE\":3}\n",
        "\n",
        "x_trainRO, y_trainRO = df_trainRO.text, df_trainRO.label.map(labelCodificationMap)\n",
        "x_validateRO, y_validateRO = df_validateRO.text, df_validateRO.label.map(labelCodificationMap)\n",
        "x_testRO, y_testRO = df_testRO.text, df_testRO.label.map(labelCodificationMap)\n",
        "\n",
        "x_trainFBRO, y_trainFBRO = df_trainFBRO.text, df_trainFBRO.label.map(labelCodificationMap)\n",
        "x_validateFBRO, y_validateFBRO = df_validateFBRO.text, df_validateFBRO.label.map(labelCodificationMap)\n",
        "x_testFBRO, y_testFBRO = df_testFBRO.text, df_testFBRO.label.map(labelCodificationMap)\n"
      ],
      "metadata": {
        "id": "n6-GST7N8hIr"
      },
      "execution_count": 3,
      "outputs": []
    },
    {
      "cell_type": "markdown",
      "source": [
        "#Load"
      ],
      "metadata": {
        "id": "EqZ5vETP8vF4"
      }
    },
    {
      "cell_type": "code",
      "source": [
        "tokenizer = AutoTokenizer.from_pretrained(\"readerbench/RoBERT-base\")\n",
        "bert = TFAutoModel.from_pretrained(\"readerbench/RoBERT-base\")\n"
      ],
      "metadata": {
        "colab": {
          "base_uri": "https://localhost:8080/",
          "height": 284,
          "referenced_widgets": [
            "c817f9e44dc243bd915a0708a088599b",
            "2630b3c5ba8c45259a952a5829d65234",
            "a5076b8df8eb41fc98c0af4be3ada3a2",
            "f8617c1a3b34453f864533d8c4894036",
            "16f4aa1583f042b1979e8075f179ed3d",
            "958d37e9c8804ca08eedad81f2316f98",
            "b594ec7741784cf19b749b519a71d8b6",
            "048ee76bb6214233942d52b44be5abf9",
            "3a2864784d4049ec8bdc98faa1c30cc0",
            "19df7835f82740e3813195bf0a6ca2f1",
            "39c6507ae74841feacbe400dca392386",
            "0dffdbb760e146e6add5b68af70cae38",
            "0b2f5e51e925420e8c7cec63e375e658",
            "f04fe8ee47a740799c58489082d16938",
            "af3ba08f0b734476be7bd3ee4a7e27c5",
            "953aebade6be4d1e95b8850691c7745e",
            "ca1e160a4b964e5e889d05ed3315ca80",
            "53dabc1cca3a4e01a43919622497f36f",
            "b127a3fc21f4461383384c5b8b9a6c5d",
            "47c3add35c1b4c2ba0f8b60326296141",
            "e05ff9d2683c4bc5b1b803106cc2d18a",
            "d794a30d0c2b4ef4863fc8d5d3274125",
            "a7a8cbdf35124ba4bb0f8557a893dba9",
            "9811955439074d3eb5fd849a7c67d448",
            "a1cd6e5402b749a4adae349836223cdd",
            "b9e057454cd746048598d5183bdb68af",
            "e175bb52b01f48fe98012f419cb06a8b",
            "9ebd947cc7d74c548ce775bd570de0e8",
            "66010f7667224c91b427abcd83dab89a",
            "2d9d1a222cc64ef390c81c3a6b57da9b",
            "19157f74fe7c4ab68012c42c6715d6c7",
            "a06e08952c3a4798b262cc006313da35",
            "d1eeb3620cc2431180dd623033f900cf",
            "3db5863229f546c29fccb3ca58e732c6",
            "c1f43cfca646441681df142f95f8dd51",
            "4bce9bc1e0c048cdabd4be0c26cbe2d6",
            "37b41c101f0644219af9147251642790",
            "1319eefdc41a4746964574a483dc22ac",
            "7b19a7e76851487cb37b5e39ec7a24a3",
            "ac0f845894844cca8c3ed8fa07d63aa7",
            "ad96d28ed96a4ac99ef9388501b0362a",
            "aac6a2c914a042ed99c5661693ed8f1c",
            "e81ec827ab6b4b93a241a39cf7a534ce",
            "1bb7ceb4414a4de3abed515d55c4c927",
            "878d3334a7f444438bad4988f83641e8",
            "e8493267820b4e00b8a29c0ef5ba17cf",
            "272e86f867e14f89a1c66aaee81ce22b",
            "fbc61bf15cf448078184b8e7e0d1df38",
            "4c5fcdde288d4f92903f807652c20603",
            "05d1fc4955894fa9abfb8c09230bea0a",
            "73a2c3eac08c49f39da720093920f668",
            "dae0be5fdc5145a281babc6295dd5460",
            "99d8febce7a7442481ce8989a970538c",
            "9d349d71e51047a698c37633669e4db3",
            "c981b7f7acf54405a9f5fa2801fe9c99"
          ]
        },
        "id": "1iYUukl28uab",
        "outputId": "89737516-8112-4d79-d676-efed3d0b1685"
      },
      "execution_count": 4,
      "outputs": [
        {
          "output_type": "display_data",
          "data": {
            "text/plain": [
              "Downloading:   0%|          | 0.00/341 [00:00<?, ?B/s]"
            ],
            "application/vnd.jupyter.widget-view+json": {
              "version_major": 2,
              "version_minor": 0,
              "model_id": "c817f9e44dc243bd915a0708a088599b"
            }
          },
          "metadata": {}
        },
        {
          "output_type": "display_data",
          "data": {
            "text/plain": [
              "Downloading:   0%|          | 0.00/468 [00:00<?, ?B/s]"
            ],
            "application/vnd.jupyter.widget-view+json": {
              "version_major": 2,
              "version_minor": 0,
              "model_id": "0dffdbb760e146e6add5b68af70cae38"
            }
          },
          "metadata": {}
        },
        {
          "output_type": "display_data",
          "data": {
            "text/plain": [
              "Downloading:   0%|          | 0.00/239k [00:00<?, ?B/s]"
            ],
            "application/vnd.jupyter.widget-view+json": {
              "version_major": 2,
              "version_minor": 0,
              "model_id": "a7a8cbdf35124ba4bb0f8557a893dba9"
            }
          },
          "metadata": {}
        },
        {
          "output_type": "display_data",
          "data": {
            "text/plain": [
              "Downloading:   0%|          | 0.00/112 [00:00<?, ?B/s]"
            ],
            "application/vnd.jupyter.widget-view+json": {
              "version_major": 2,
              "version_minor": 0,
              "model_id": "3db5863229f546c29fccb3ca58e732c6"
            }
          },
          "metadata": {}
        },
        {
          "output_type": "display_data",
          "data": {
            "text/plain": [
              "Downloading:   0%|          | 0.00/554M [00:00<?, ?B/s]"
            ],
            "application/vnd.jupyter.widget-view+json": {
              "version_major": 2,
              "version_minor": 0,
              "model_id": "878d3334a7f444438bad4988f83641e8"
            }
          },
          "metadata": {}
        },
        {
          "output_type": "stream",
          "name": "stderr",
          "text": [
            "Some layers from the model checkpoint at readerbench/RoBERT-base were not used when initializing TFBertModel: ['nsp___cls', 'mlm___cls']\n",
            "- This IS expected if you are initializing TFBertModel from the checkpoint of a model trained on another task or with another architecture (e.g. initializing a BertForSequenceClassification model from a BertForPreTraining model).\n",
            "- This IS NOT expected if you are initializing TFBertModel from the checkpoint of a model that you expect to be exactly identical (initializing a BertForSequenceClassification model from a BertForSequenceClassification model).\n",
            "All the layers of TFBertModel were initialized from the model checkpoint at readerbench/RoBERT-base.\n",
            "If your task is similar to the task the model of the checkpoint was trained on, you can already use TFBertModel for predictions without further training.\n"
          ]
        }
      ]
    },
    {
      "cell_type": "markdown",
      "source": [
        "#Test Data\n"
      ],
      "metadata": {
        "id": "wKnhBJp19Vf5"
      }
    },
    {
      "cell_type": "code",
      "source": [
        "tokLen = 50\n",
        "\n",
        "X_testFBRO = tokenizer(x_testFBRO.tolist(), padding='max_length', return_tensors=\"np\", truncation=True, max_length=tokLen)\n",
        "print(X_testFBRO)\n",
        "X_testFBRO = list(X_testFBRO.values())\n",
        "Y_testFBRO = tf.one_hot(y_testFBRO, depth=4)\n",
        "\n",
        "X_testTRANSF = tokenizer(x_testFBRO.tolist(), padding='max_length', return_tensors=\"np\", truncation=True, max_length=tokLen)\n",
        "X_testTRANSF = list(X_testTRANSF.values())\n",
        "Y_testTRANSF = tf.one_hot(y_testFBRO, depth=4)"
      ],
      "metadata": {
        "colab": {
          "base_uri": "https://localhost:8080/"
        },
        "id": "CtfoLO4h83z4",
        "outputId": "3f7b4a83-4b87-4cb6-adc0-839948070699"
      },
      "execution_count": null,
      "outputs": [
        {
          "output_type": "stream",
          "name": "stdout",
          "text": [
            "{'input_ids': array([[   3, 4554,   71, ...,    0,    0,    0],\n",
            "       [   3, 1183, 6033, ...,    0,    0,    0],\n",
            "       [   3,  124,   18, ...,    0,    0,    0],\n",
            "       ...,\n",
            "       [   3,   23,  203, ...,    0,    0,    0],\n",
            "       [   3, 2087,   27, ...,    0,    0,    0],\n",
            "       [   3,  157,  124, ...,    0,    0,    0]]), 'token_type_ids': array([[0, 0, 0, ..., 0, 0, 0],\n",
            "       [0, 0, 0, ..., 0, 0, 0],\n",
            "       [0, 0, 0, ..., 0, 0, 0],\n",
            "       ...,\n",
            "       [0, 0, 0, ..., 0, 0, 0],\n",
            "       [0, 0, 0, ..., 0, 0, 0],\n",
            "       [0, 0, 0, ..., 0, 0, 0]]), 'attention_mask': array([[1, 1, 1, ..., 0, 0, 0],\n",
            "       [1, 1, 1, ..., 0, 0, 0],\n",
            "       [1, 1, 1, ..., 0, 0, 0],\n",
            "       ...,\n",
            "       [1, 1, 1, ..., 0, 0, 0],\n",
            "       [1, 1, 1, ..., 0, 0, 0],\n",
            "       [1, 1, 1, ..., 0, 0, 0]])}\n"
          ]
        }
      ]
    },
    {
      "cell_type": "markdown",
      "source": [
        "#Load model\n"
      ],
      "metadata": {
        "id": "HEc8OMk29X7b"
      }
    },
    {
      "cell_type": "code",
      "source": [
        "modelPath = '/content/drive/MyDrive/Licenta_Busuioc_Gabriel-Razvan_2022/BERT-CNN-FBRO_0.844_50.h5'\n",
        "\n",
        "model = tf.keras.models.load_model(modelPath)\n"
      ],
      "metadata": {
        "id": "uWvq-DXK9ZEm"
      },
      "execution_count": null,
      "outputs": []
    },
    {
      "cell_type": "code",
      "source": [
        "model.summary()"
      ],
      "metadata": {
        "id": "-4KS0ohu_y6_"
      },
      "execution_count": null,
      "outputs": []
    },
    {
      "cell_type": "markdown",
      "source": [
        "#ERROR ANALYSIS\n"
      ],
      "metadata": {
        "id": "Q-2hvIF-N8E3"
      }
    },
    {
      "cell_type": "code",
      "source": [
        "!install csv"
      ],
      "metadata": {
        "colab": {
          "base_uri": "https://localhost:8080/"
        },
        "id": "a2WeHsq2QEyv",
        "outputId": "00633862-7a7d-4c27-90f6-68c63133be80"
      },
      "execution_count": 6,
      "outputs": [
        {
          "output_type": "stream",
          "name": "stdout",
          "text": [
            "install: missing destination file operand after 'csv'\n",
            "Try 'install --help' for more information.\n"
          ]
        }
      ]
    },
    {
      "cell_type": "code",
      "source": [
        "labelCodificationMap = {0:\"OTHER\", 1:\"PROFANITY\", 2:\"INSULT\", 3:\"ABUSE\"}\n",
        "def decodeLabel(numberLabel):\n",
        "  return labelCodificationMap[numberLabel]"
      ],
      "metadata": {
        "id": "u82oY-0pPyFr"
      },
      "execution_count": 7,
      "outputs": []
    },
    {
      "cell_type": "code",
      "source": [
        "import csv\n",
        "import os\n",
        "\n",
        "modelsPath = [\"/content/drive/MyDrive/Licenta_Busuioc_Gabriel-Razvan_2022/BERT-CNN-FBRO_0.844_50.h5\",\n",
        "              \"/content/drive/MyDrive/Licenta_Busuioc_Gabriel-Razvan_2022/BERT-CNN-TRANSF_0.819_120.h5\",\n",
        "              \"/content/drive/MyDrive/Licenta_Busuioc_Gabriel-Razvan_2022/BERT_FBRO_0.755_16_30_32.h5\",\n",
        "              \"/content/drive/MyDrive/Licenta_Busuioc_Gabriel-Razvan_2022/BERT_TRANSF_0.755_128_120_128.h5\"]\n",
        "tokenizerLens = [50, 120, 30, 120]\n",
        "learningKind = [\"FBRO\", \"TRANSF\", \"FBRO\", \"TRANSF\"]\n",
        "\n",
        "for modelPath, tokLen, kind in zip(modelsPath, tokenizerLens, learningKind):\n",
        "\n",
        "  X_testFBRO = tokenizer(x_testFBRO.tolist(), padding='max_length', return_tensors=\"np\", truncation=True, max_length=tokLen)\n",
        "  X_testFBRO = list(X_testFBRO.values())\n",
        "  Y_testFBRO = tf.one_hot(y_testFBRO, depth=4)\n",
        "\n",
        "  X_testTRANSF = tokenizer(x_testFBRO.tolist(), padding='max_length', return_tensors=\"np\", truncation=True, max_length=tokLen)\n",
        "  X_testTRANSF = list(X_testTRANSF.values())\n",
        "  Y_testTRANSF = tf.one_hot(y_testFBRO, depth=4)\n",
        "\n",
        "\n",
        "  XTEST = None\n",
        "  YTEST = None\n",
        "  if kind == \"FBRO\":\n",
        "    XTEST = X_testFBRO\n",
        "    YTEST = Y_testFBRO\n",
        "  if kind == \"TRANSF\":\n",
        "    XTEST = X_testTRANSF\n",
        "    YTEST = Y_testTRANSF\n",
        "\n",
        "  model = tf.keras.models.load_model(modelPath)\n",
        "\n",
        "  predictions = model.predict(XTEST)\n",
        "\n",
        "  file = open(modelPath+\".predictions\", \"w\")\n",
        "  writer = csv.writer(file)\n",
        "  writer.writerow([\"text\", \"prediction\", \"trueLabel\"])\n",
        "  for prediction, text, trueLabel in zip(predictions, x_testFBRO.tolist(), y_testFBRO):\n",
        "    index = tf.argmax(prediction, axis=0)\n",
        "    writer.writerow([text, decodeLabel(index.numpy()), decodeLabel(trueLabel)])\n",
        "  file.close()"
      ],
      "metadata": {
        "id": "2nhStgelN7n5"
      },
      "execution_count": 9,
      "outputs": []
    },
    {
      "cell_type": "markdown",
      "source": [
        "#MANUAL TESTING\n"
      ],
      "metadata": {
        "id": "SoJb0sY0XOUm"
      }
    },
    {
      "cell_type": "code",
      "source": [
        "import csv\n",
        "import os\n",
        "\n",
        "modelsPath = [\"/content/drive/MyDrive/Licenta_Busuioc_Gabriel-Razvan_2022/BERT-CNN-FBRO_0.844_50.h5\",\n",
        "              \"/content/drive/MyDrive/Licenta_Busuioc_Gabriel-Razvan_2022/BERT-CNN-TRANSF_0.819_120.h5\",\n",
        "              \"/content/drive/MyDrive/Licenta_Busuioc_Gabriel-Razvan_2022/BERT_FBRO_0.755_16_30_32.h5\",\n",
        "              \"/content/drive/MyDrive/Licenta_Busuioc_Gabriel-Razvan_2022/BERT_TRANSF_0.755_128_120_128.h5\"]\n",
        "tokenizerLens = [50, 120, 30, 120]\n",
        "learningKind = [\"FBRO\", \"TRANSF\", \"FBRO\", \"TRANSF\"]\n",
        "texts = [\"baga-ti-as surubul in piulita!\",\n",
        "         \"sa-ti bag lebarul in sacosa!\",\n",
        "         \"ce pula mea mai e de facut in cazul asta?\",\n",
        "         \"sa-mi bag pula in toata ma-ta si in mortii ei!\",\n",
        "         \"du-te dracu de aici ca esti chiar dobitoc\",\n",
        "         \"daca esti prost de mic, cand esti mare doar te joci\",\n",
        "         \"mars la cotet, javra ce esti!\",\n",
        "         \"astia chiar ne cred asa prosti?\",\n",
        "         \"sunteti niste prapaditi!\",\n",
        "         \"sa-mi iei ouale in gura!\",\n",
        "         \"sa-ti dau tot pixul sa il sugi\",\n",
        "         \"grijania mă-tii de copil\",\n",
        "         \"sa iti iau mortii la dans!\",\n",
        "         \"sa-mi iei p..a in gura\",\n",
        "         \"sa-mi iei pu....l..a in gura\",\n",
        "         \"ce bozgoer esti...\",\n",
        "         \"esti un bolsevic\",\n",
        "         \"ma-ta este foarte frumoasa!\",\n",
        "         \"sa-ti bag banii la cec!\",\n",
        "         \"canta-mi-ai la ce atarna\",\n",
        "         \"sa-mi lingi banana!\",\n",
        "         \"sa-mi fac schiuri din crucea ma-tii\",\n",
        "         \"vopsi-mi-ai ouale!\"\n",
        "         ]\n",
        "\n",
        "trueLabels = [3, 3, 1, 3, 3, 2, 3, 0, 3, 3, 3, 3, 3, 3, 3, 3, 3, 0, 3, 3, 3, 3, 3]\n",
        "\n",
        "\n",
        "for modelPath, tokLen, kind in zip(modelsPath, tokenizerLens, learningKind):\n",
        "\n",
        "  XTEST = tokenizer(texts, padding='max_length', return_tensors=\"np\", truncation=True, max_length=tokLen)\n",
        "  XTEST = list(XTEST.values())\n",
        "  # Y_testFBRO = tf.one_hot(y_testFBRO, depth=4)\n",
        "\n",
        "  # X_testTRANSF = tokenizer(x_testFBRO.tolist(), padding='max_length', return_tensors=\"np\", truncation=True, max_length=tokLen)\n",
        "  # X_testTRANSF = list(X_testTRANSF.values())\n",
        "  # Y_testTRANSF = tf.one_hot(y_testFBRO, depth=4)\n",
        "\n",
        "\n",
        "  # XTEST = None\n",
        "  # YTEST = None\n",
        "  # if kind == \"FBRO\":\n",
        "  #   XTEST = X_testFBRO\n",
        "  #   YTEST = Y_testFBRO\n",
        "  # if kind == \"TRANSF\":\n",
        "  #   XTEST = X_testTRANSF\n",
        "  #   YTEST = Y_testTRANSF\n",
        "\n",
        "  model = tf.keras.models.load_model(modelPath)\n",
        "\n",
        "  predictions = model.predict(XTEST)\n",
        "\n",
        "  file = open(modelPath+\".manual.csv\", \"w\")\n",
        "  writer = csv.writer(file)\n",
        "  writer.writerow([\"text\", \"prediction\", \"trueLabel\"])\n",
        "  for prediction, text, trueLabel in zip(predictions, texts, trueLabels):\n",
        "    index = tf.argmax(prediction, axis=0)\n",
        "    writer.writerow([text, decodeLabel(index.numpy()), decodeLabel(trueLabel)])\n",
        "  file.close()"
      ],
      "metadata": {
        "id": "hZbjVF-7OO0o"
      },
      "execution_count": 28,
      "outputs": []
    },
    {
      "cell_type": "markdown",
      "source": [
        "#TEST MODELS\n"
      ],
      "metadata": {
        "id": "dsOuo90e9h2h"
      }
    },
    {
      "cell_type": "code",
      "source": [
        "texts = [\"ce dracu zici acolo?\", \"sa iti bag surubul in piulita!\"]\n",
        "test = tokenizer(texts, padding='max_length', return_tensors=\"np\", truncation=True, max_length=tokLen)\n",
        "test = list(test.values())\n",
        "predictions = model.predict(test);\n",
        "print(predictions)\n",
        "for text, predicted in zip(texts, predictions):\n",
        "  index = tf.argmax(predicted, axis=0)\n",
        "  print(text + \" - \" + decodeLabel(index.numpy()))"
      ],
      "metadata": {
        "colab": {
          "base_uri": "https://localhost:8080/"
        },
        "id": "dgms38leIbGg",
        "outputId": "d9c84608-b554-4e68-86ed-05f9150394ad"
      },
      "execution_count": null,
      "outputs": [
        {
          "output_type": "stream",
          "name": "stdout",
          "text": [
            "[[2.8204615e-04 9.9229383e-01 5.0051361e-03 2.4189851e-03]\n",
            " [6.2692612e-02 7.6636230e-03 5.4815993e-02 8.7482774e-01]]\n",
            "ce dracu zici acolo? - PROFANITY\n",
            "sa iti bag surubul in piulita! - ABUSE\n"
          ]
        }
      ]
    },
    {
      "cell_type": "markdown",
      "source": [
        "# METRICS FOR THESIS"
      ],
      "metadata": {
        "id": "dLs3EIFJOxaV"
      }
    },
    {
      "cell_type": "code",
      "source": [
        "from sklearn import metrics\n",
        "import seaborn as sns"
      ],
      "metadata": {
        "id": "vpogOb9bOzEY"
      },
      "execution_count": null,
      "outputs": []
    },
    {
      "cell_type": "code",
      "source": [
        "XTEST = X_testTRANSF \n",
        "YTEST = Y_testTRANSF \n",
        "\n",
        "# XTEST = X_testFBRO\n",
        "# YTEST = Y_testFBRO"
      ],
      "metadata": {
        "id": "70HRaTW-PyZh"
      },
      "execution_count": null,
      "outputs": []
    },
    {
      "cell_type": "code",
      "source": [
        "def prettyPrint(metrics):\n",
        "  print(\"FG Accuracy=\",metrics[1])\n",
        "  print(\"FG Precision=\",metrics[2])\n",
        "  print(\"FG Recall=\",metrics[3])\n",
        "  print(\"FG F1 Micro=\",metrics[4])\n",
        "  print(\"FG F1 Macro=\",metrics[5])\n",
        "  print(\"CG Accuracy=\",metrics[6])\n",
        "  print(\"CG Precision=\",metrics[7])\n",
        "  print(\"CG Recall=\",metrics[8])\n",
        "  print(\"CG F1=\",metrics[9])\n",
        "\n",
        "results = model.evaluate(XTEST, YTEST, verbose=1)\n",
        "\n",
        "y_pred = model.predict(XTEST)\n",
        "y_predCG = pd.Series(tf.argmax(y_pred, 1)).map({0:0, 1:1, 2:1, 3:1})\n",
        "Y_testCG = pd.Series(tf.argmax(YTEST, 1)).map({0:0, 1:1, 2:1, 3:1})\n",
        "\n",
        "CGaccuracy = metrics.accuracy_score(Y_testCG, y_predCG)\n",
        "CGprecision = metrics.precision_score(Y_testCG, y_predCG)\n",
        "CGrecall = metrics.recall_score(Y_testCG, y_predCG)\n",
        "CGf1 = metrics.f1_score(Y_testCG, y_predCG)\n",
        "\n",
        "prettyPrint(results + [CGaccuracy, CGprecision, CGrecall, CGf1])"
      ],
      "metadata": {
        "id": "1PPZVXck9lkz"
      },
      "execution_count": null,
      "outputs": []
    },
    {
      "cell_type": "code",
      "source": [
        "YPRED = [tf.argmax(predicted, axis=0).numpy() for predicted in y_pred]\n",
        "YTEST_SAN = [tf.argmax(predicted, axis=0).numpy() for predicted in YTEST]\n",
        "\n",
        "cf_matrix = metrics.confusion_matrix(YTEST_SAN, YPRED)\n",
        "\n",
        "cmn = cf_matrix.astype('float') / cf_matrix.sum(axis=1)[:, np.newaxis]\n",
        "\n",
        "# ax = sns.heatmap(cf_matrix, annot=True, cmap='Reds', fmt='.2f')\n",
        "ax = sns.heatmap(cmn, annot=True, cmap='Reds', fmt='.2f')\n",
        "ax.set_title('FINE GRAINED CONFUSION MATRIX\\n\\n')\n",
        "ax.set_xlabel('\\nPredicted Values')\n",
        "ax.set_ylabel('Actual Values ')\n",
        "\n",
        "ax.xaxis.set_ticklabels(['OTHER','PROFANITY', 'INSULT', 'ABUSE'])\n",
        "ax.yaxis.set_ticklabels(['OTHER','PROFANITY', 'INSULT', 'ABUSE'])"
      ],
      "metadata": {
        "colab": {
          "base_uri": "https://localhost:8080/",
          "height": 406
        },
        "id": "LxSUwKdhRtuQ",
        "outputId": "b48ff751-ed9c-4c92-a583-a83acdffadc5"
      },
      "execution_count": null,
      "outputs": [
        {
          "output_type": "execute_result",
          "data": {
            "text/plain": [
              "[Text(0, 0.5, 'OTHER'),\n",
              " Text(0, 1.5, 'PROFANITY'),\n",
              " Text(0, 2.5, 'INSULT'),\n",
              " Text(0, 3.5, 'ABUSE')]"
            ]
          },
          "metadata": {},
          "execution_count": 84
        },
        {
          "output_type": "display_data",
          "data": {
            "text/plain": [
              "<Figure size 432x288 with 2 Axes>"
            ],
            "image/png": "[encoded data removed]"
          },
          "metadata": {
            "needs_background": "light"
          }
        }
      ]
    },
    {
      "cell_type": "code",
      "source": [
        "\n",
        "cf_matrix = metrics.confusion_matrix(Y_testCG, y_predCG)\n",
        "\n",
        "cmn = cf_matrix.astype('float') / cf_matrix.sum(axis=1)[:, np.newaxis]\n",
        "\n",
        "# ax = sns.heatmap(cf_matrix, annot=True, cmap='Reds', fmt='.2f')\n",
        "ax = sns.heatmap(cf_matrix, annot=True, cmap='Blues', fmt='g')\n",
        "ax.set_title('COARSE GRAINED CONFUSION MATRIX\\n\\n');\n",
        "ax.set_xlabel('\\nPredicted Values')\n",
        "ax.set_ylabel('Actual Values ');\n",
        "\n",
        "ax.xaxis.set_ticklabels(['OTHER','OFFENSIVE'])\n",
        "ax.yaxis.set_ticklabels(['OTHER','OFFENSIVE'])"
      ],
      "metadata": {
        "colab": {
          "base_uri": "https://localhost:8080/",
          "height": 354
        },
        "id": "UJ4vVZnxTHLh",
        "outputId": "06c2f78c-5820-4890-88c8-34b6161c0f54"
      },
      "execution_count": null,
      "outputs": [
        {
          "output_type": "execute_result",
          "data": {
            "text/plain": [
              "[Text(0, 0.5, 'OTHER'), Text(0, 1.5, 'OFFENSIVE')]"
            ]
          },
          "metadata": {},
          "execution_count": 86
        },
        {
          "output_type": "display_data",
          "data": {
            "text/plain": [
              "<Figure size 432x288 with 2 Axes>"
            ],
            "image/png": "[encoded data removed]"
          },
          "metadata": {
            "needs_background": "light"
          }
        }
      ]
    }
  ]
}