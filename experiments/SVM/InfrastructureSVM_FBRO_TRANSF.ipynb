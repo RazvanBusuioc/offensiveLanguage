{
  "cells": [
    {
      "cell_type": "markdown",
      "metadata": {
        "id": "oy1nDmxG5LaN"
      },
      "source": [
        "# Installing dependencies"
      ]
    },
    {
      "cell_type": "code",
      "execution_count": 52,
      "metadata": {
        "colab": {
          "base_uri": "https://localhost:8080/"
        },
        "id": "_McpZLaG3wyv",
        "outputId": "fbb0e7ed-f15c-4c2f-827b-4dcb03ab256d"
      },
      "outputs": [
        {
          "output_type": "stream",
          "name": "stdout",
          "text": [
            "Looking in indexes: https://pypi.org/simple, https://us-python.pkg.dev/colab-wheels/public/simple/\n",
            "Requirement already satisfied: tensorflow-addons in /usr/local/lib/python3.7/dist-packages (0.17.0)\n",
            "Requirement already satisfied: typeguard>=2.7 in /usr/local/lib/python3.7/dist-packages (from tensorflow-addons) (2.7.1)\n",
            "Requirement already satisfied: packaging in /usr/local/lib/python3.7/dist-packages (from tensorflow-addons) (21.3)\n",
            "Requirement already satisfied: pyparsing!=3.0.5,>=2.0.2 in /usr/local/lib/python3.7/dist-packages (from packaging->tensorflow-addons) (3.0.9)\n",
            "Looking in indexes: https://pypi.org/simple, https://us-python.pkg.dev/colab-wheels/public/simple/\n",
            "Requirement already satisfied: gensim==3.8.3 in /usr/local/lib/python3.7/dist-packages (3.8.3)\n",
            "Requirement already satisfied: six>=1.5.0 in /usr/local/lib/python3.7/dist-packages (from gensim==3.8.3) (1.15.0)\n",
            "Requirement already satisfied: smart-open>=1.8.1 in /usr/local/lib/python3.7/dist-packages (from gensim==3.8.3) (6.0.0)\n",
            "Requirement already satisfied: scipy>=0.18.1 in /usr/local/lib/python3.7/dist-packages (from gensim==3.8.3) (1.4.1)\n",
            "Requirement already satisfied: numpy>=1.11.3 in /usr/local/lib/python3.7/dist-packages (from gensim==3.8.3) (1.21.6)\n"
          ]
        }
      ],
      "source": [
        "!pip install tensorflow-addons\n",
        "# !wget https://dl.fbaipublicfiles.com/fasttext/vectors-crawl/cc.ro.300.bin.gz\n",
        "# !gzip -d cc.ro.300.bin.gz\n",
        "!pip install --upgrade gensim==3.8.3"
      ]
    },
    {
      "cell_type": "markdown",
      "source": [
        "# Mount corpora. Import libraries"
      ],
      "metadata": {
        "id": "6wqE8L3Jk56A"
      }
    },
    {
      "cell_type": "code",
      "execution_count": 53,
      "metadata": {
        "id": "ofkW8m8w5SzJ",
        "colab": {
          "base_uri": "https://localhost:8080/"
        },
        "outputId": "47c9b06d-b27a-4449-f2ed-c13fbf298d31"
      },
      "outputs": [
        {
          "output_type": "stream",
          "name": "stdout",
          "text": [
            "Mounted at /content/drive\n"
          ]
        }
      ],
      "source": [
        "from google.colab import drive\n",
        "drive.mount(\"/content/drive\", force_remount=True)\n",
        "from pathlib import Path\n",
        "\n",
        "import pandas as pd\n",
        "import numpy as np\n",
        "\n",
        "from sklearn.svm import LinearSVC\n",
        "from sklearn.naive_bayes import MultinomialNB, GaussianNB\n",
        "from sklearn.feature_extraction.text import TfidfVectorizer\n",
        "from sklearn.feature_extraction.text import HashingVectorizer"
      ]
    },
    {
      "cell_type": "markdown",
      "source": [
        "# **Training and Testing on FB-RO-Offense**"
      ],
      "metadata": {
        "id": "hwrJj0uBmbzl"
      }
    },
    {
      "cell_type": "markdown",
      "metadata": {
        "id": "OK66I0pG-Xfj"
      },
      "source": [
        "# Load datasets"
      ]
    },
    {
      "cell_type": "code",
      "execution_count": 54,
      "metadata": {
        "id": "1bnkm73Q9N8Z",
        "colab": {
          "base_uri": "https://localhost:8080/"
        },
        "outputId": "cbeb58c3-0f2a-4463-a311-b2ab372ecbcd"
      },
      "outputs": [
        {
          "output_type": "execute_result",
          "data": {
            "text/plain": [
              "(3564, 891, 4455, 9953, 2492, 12445)"
            ]
          },
          "metadata": {},
          "execution_count": 54
        }
      ],
      "source": [
        "FB_RO_OFFENSE_PATH = Path('/content/drive/MyDrive/Licenta_Busuioc_Gabriel-Razvan_2022/corpora/FB-RO-Offense')\n",
        "RO_OFFENSE_PATH = Path('/content/drive/MyDrive/Licenta_Busuioc_Gabriel-Razvan_2022/corpora/RO-Offense')\n",
        "\n",
        "df_trainRO = pd.read_csv(RO_OFFENSE_PATH / 'train.csv')\n",
        "df_testRO = pd.read_csv(RO_OFFENSE_PATH / 'test.csv')\n",
        "df_corpusRO = df_trainRO.append(df_testRO, ignore_index=True)\n",
        "\n",
        "df_trainFBRO = pd.read_csv(FB_RO_OFFENSE_PATH / 'train.csv')\n",
        "df_testFBRO = pd.read_csv(FB_RO_OFFENSE_PATH / 'test.csv')\n",
        "df_corpusFBRO = df_trainFBRO.append(df_testFBRO, ignore_index=True)\n",
        "\n",
        "len(df_trainFBRO), len(df_testFBRO), len(df_corpusFBRO), len(df_trainRO), len(df_testRO), len(df_corpusRO)\n"
      ]
    },
    {
      "cell_type": "markdown",
      "source": [
        "# Vectorize the training and test data. "
      ],
      "metadata": {
        "id": "zY6OwmcMlJ8p"
      }
    },
    {
      "cell_type": "code",
      "execution_count": 55,
      "metadata": {
        "id": "-SVm562X-W2i",
        "colab": {
          "base_uri": "https://localhost:8080/"
        },
        "outputId": "5306789a-b3f5-450b-e1e0-6c6ee0e24e15"
      },
      "outputs": [
        {
          "output_type": "stream",
          "name": "stdout",
          "text": [
            "Train: n_samples: 3564, n_features: 50\n",
            "Test: n_samples: 891, n_features: 50\n"
          ]
        }
      ],
      "source": [
        "labelCodificationMap = {\"OTHER\":0, \"PROFANITY\":1, \"INSULT\":2, \"ABUSE\":3}\n",
        "\n",
        "x_trainFBRO, y_trainFBRO = df_trainFBRO.text, df_trainFBRO.label\n",
        "x_testFBRO, y_testFBRO = df_testFBRO.text, df_testFBRO.label\n",
        "\n",
        "vectorizer = TfidfVectorizer(max_features=50)\n",
        "X_trainFBRO = vectorizer.fit_transform(x_trainFBRO)\n",
        "X_testFBRO = vectorizer.transform(x_testFBRO)\n",
        "\n",
        "Y_trainFBRO = y_trainFBRO.map(labelCodificationMap)\n",
        "Y_testFBRO = y_testFBRO.map(labelCodificationMap)\n",
        "\n",
        "\n",
        "\n",
        "print(\"Train: n_samples: %d, n_features: %d\" % X_trainFBRO.shape)\n",
        "print(\"Test: n_samples: %d, n_features: %d\" % X_testFBRO.shape)\n",
        "\n",
        "# def getClasses(labelsList):\n",
        "#   labels = []\n",
        "#   for i in labelsList:\n",
        "#     labels += i\n",
        "\n",
        "#   other = 0\n",
        "#   profanity = 0\n",
        "#   insult = 0\n",
        "#   abuse = 0\n",
        "#   for elem in labels:\n",
        "#     if elem == 0:\n",
        "#       other += 1\n",
        "#     if elem == 1:\n",
        "#       profanity += 1\n",
        "#     if elem == 2:\n",
        "#       insult += 1\n",
        "#     if elem == 3:\n",
        "#       abuse += 1\n",
        "#   return [other, profanity, insult, abuse]\n",
        "\n",
        "# getClasses([Y_trainRO.tolist(), Y_testRO.tolist()])"
      ]
    },
    {
      "cell_type": "markdown",
      "source": [
        "# Train SVM classifier"
      ],
      "metadata": {
        "id": "I9Bc8THdlUxR"
      }
    },
    {
      "cell_type": "code",
      "execution_count": 56,
      "metadata": {
        "id": "I7iWH9Q2F8TF",
        "colab": {
          "base_uri": "https://localhost:8080/"
        },
        "outputId": "e6a3046c-6a04-4524-9b61-6c0e389ace5c"
      },
      "outputs": [
        {
          "output_type": "execute_result",
          "data": {
            "text/plain": [
              "LinearSVC(class_weight={0: 0.4161606725829052, 1: 6.5036496350364965,\n",
              "                        2: 1.4370967741935483, 3: 1.337837837837838})"
            ]
          },
          "metadata": {},
          "execution_count": 56
        }
      ],
      "source": [
        "from sklearn import metrics\n",
        "from sklearn.utils.class_weight import compute_class_weight\n",
        "\n",
        "class_weight = compute_class_weight(\n",
        "\n",
        "    class_weight='balanced', classes=[\"OTHER\", \"PROFANITY\", \"INSULT\", \"ABUSE\"], y=y_trainFBRO.tolist()\n",
        "\n",
        ")\n",
        "\n",
        "model_svc = LinearSVC(class_weight=dict(zip(range(4),class_weight)))\n",
        "model_svc.fit(X_trainFBRO, Y_trainFBRO)"
      ]
    },
    {
      "cell_type": "markdown",
      "source": [
        "# Predict and display **fine grained** metrics"
      ],
      "metadata": {
        "id": "X-e_7ILOl7bb"
      }
    },
    {
      "cell_type": "code",
      "source": [
        "y_predFBRO = model_svc.predict(X_testFBRO)\n",
        "\n",
        "score = metrics.accuracy_score(Y_testFBRO, y_predFBRO)\n",
        "print(\"accuracy:   %0.3f\" % score)\n",
        "\n",
        "cf_matrix = metrics.confusion_matrix(Y_testFBRO, y_predFBRO)"
      ],
      "metadata": {
        "id": "3_KAlR6jl15f",
        "colab": {
          "base_uri": "https://localhost:8080/"
        },
        "outputId": "c0e62de5-8022-46c4-ad2e-c36b29720d44"
      },
      "execution_count": 57,
      "outputs": [
        {
          "output_type": "stream",
          "name": "stdout",
          "text": [
            "accuracy:   0.574\n"
          ]
        }
      ]
    },
    {
      "cell_type": "code",
      "source": [
        "from sklearn.metrics import precision_recall_fscore_support\n",
        "from sklearn.metrics import f1_score\n",
        "\n",
        "f1 = f1_score(Y_testFBRO, y_predFBRO, average=None)\n",
        "precision, recall, fbetascore, support = precision_recall_fscore_support(Y_testFBRO, y_predFBRO, average='macro')\n",
        "print(\"Precision: {}\".format(precision))\n",
        "print(\"Recall: {}\".format(recall))\n",
        "print(\"f-beta-score: {}\".format(fbetascore))\n",
        "print(\"f1-score: {}\".format(f1))"
      ],
      "metadata": {
        "id": "j4taA91wbnG1",
        "colab": {
          "base_uri": "https://localhost:8080/"
        },
        "outputId": "68ec1ef4-54de-4294-9fff-12d2d47f6bf3"
      },
      "execution_count": 58,
      "outputs": [
        {
          "output_type": "stream",
          "name": "stdout",
          "text": [
            "Precision: 0.42467944043259664\n",
            "Recall: 0.4379962069603539\n",
            "f-beta-score: 0.425002131792941\n",
            "f1-score: [0.73244444 0.4        0.29710145 0.27046263]\n"
          ]
        }
      ]
    },
    {
      "cell_type": "code",
      "source": [
        "import seaborn as sns\n",
        "\n",
        "\n",
        "cmn = cf_matrix.astype('float') / cf_matrix.sum(axis=1)[:, np.newaxis]\n",
        "\n",
        "# ax = sns.heatmap(cf_matrix, annot=True, cmap='Reds', fmt='.2f')\n",
        "ax = sns.heatmap(cf_matrix, annot=True, cmap='Reds', fmt='g')\n",
        "ax.set_title('FINE GRAINED CONFUSION MATRIX\\n\\n')\n",
        "ax.set_xlabel('\\nPredicted Values')\n",
        "ax.set_ylabel('Actual Values ')\n",
        "\n",
        "ax.xaxis.set_ticklabels(['OTHER','PROFANITY', 'INSULT', 'ABUSE'])\n",
        "ax.yaxis.set_ticklabels(['OTHER','PROFANITY', 'INSULT', 'ABUSE'])"
      ],
      "metadata": {
        "id": "ex1FpIZsa_NQ",
        "colab": {
          "base_uri": "https://localhost:8080/",
          "height": 406
        },
        "outputId": "18373c16-574e-4d7d-e4f0-b30b8e8dfaa0"
      },
      "execution_count": 59,
      "outputs": [
        {
          "output_type": "execute_result",
          "data": {
            "text/plain": [
              "[Text(0, 0.5, 'OTHER'),\n",
              " Text(0, 1.5, 'PROFANITY'),\n",
              " Text(0, 2.5, 'INSULT'),\n",
              " Text(0, 3.5, 'ABUSE')]"
            ]
          },
          "metadata": {},
          "execution_count": 59
        },
        {
          "output_type": "display_data",
          "data": {
            "text/plain": [
              "<Figure size 432x288 with 2 Axes>"
            ],
            "image/png": "[encoded data removed]"
          },
          "metadata": {
            "needs_background": "light"
          }
        }
      ]
    },
    {
      "cell_type": "code",
      "source": [
        "Y_test = Y_testFBRO.map({0:0, 1:1, 2:1, 3:1})\n",
        "y_pred = pd.Series(y_predFBRO).map({0:0, 1:1, 2:1, 3:1})\n",
        "\n",
        "cf_matrix = metrics.confusion_matrix(Y_test, y_pred)\n",
        "\n",
        "score = metrics.accuracy_score(Y_test, y_pred)\n",
        "print(\"accuracy:   %0.3f\" % score)\n",
        "\n",
        "cmn = cf_matrix.astype('float') / cf_matrix.sum(axis=1)[:, np.newaxis]\n",
        "\n",
        "# ax = sns.heatmap(cf_matrix, annot=True, cmap='Reds', fmt='.2f')\n",
        "ax = sns.heatmap(cf_matrix, annot=True, cmap='Reds', fmt='g')\n",
        "ax.set_title('COARSE GRAINED CONFUSION MATRIX\\n\\n');\n",
        "ax.set_xlabel('\\nPredicted Values')\n",
        "ax.set_ylabel('Actual Values ');\n",
        "\n",
        "ax.xaxis.set_ticklabels(['OTHER','OFFENSIVE'])\n",
        "ax.yaxis.set_ticklabels(['OTHER','OFFENSIVE'])"
      ],
      "metadata": {
        "id": "Hf34A17FnpKL",
        "colab": {
          "base_uri": "https://localhost:8080/",
          "height": 372
        },
        "outputId": "1a80139f-180f-43a5-ecc0-5f353131c7ab"
      },
      "execution_count": 60,
      "outputs": [
        {
          "output_type": "stream",
          "name": "stdout",
          "text": [
            "accuracy:   0.662\n"
          ]
        },
        {
          "output_type": "execute_result",
          "data": {
            "text/plain": [
              "[Text(0, 0.5, 'OTHER'), Text(0, 1.5, 'OFFENSIVE')]"
            ]
          },
          "metadata": {},
          "execution_count": 60
        },
        {
          "output_type": "display_data",
          "data": {
            "text/plain": [
              "<Figure size 432x288 with 2 Axes>"
            ],
            "image/png": "[encoded data removed]"
          },
          "metadata": {
            "needs_background": "light"
          }
        }
      ]
    },
    {
      "cell_type": "markdown",
      "source": [
        "# **Transfer Learning (RO-Offense + FB-RO-Offense)**"
      ],
      "metadata": {
        "id": "cjjLQguuVyjN"
      }
    },
    {
      "cell_type": "markdown",
      "source": [
        "# Compute training data(full Ro-Offense + train-Fb-Ro-Offense) for the final model"
      ],
      "metadata": {
        "id": "CgvuEjcRWGMi"
      }
    },
    {
      "cell_type": "code",
      "source": [
        "df_transf_train_corpus = df_corpusRO.append(df_trainFBRO, ignore_index=True)\n",
        "len(df_transf_train_corpus)"
      ],
      "metadata": {
        "id": "gK9ObHz0V2BR",
        "colab": {
          "base_uri": "https://localhost:8080/"
        },
        "outputId": "4a6bf458-59eb-484b-89fb-0ce4c9981789"
      },
      "execution_count": 61,
      "outputs": [
        {
          "output_type": "execute_result",
          "data": {
            "text/plain": [
              "16009"
            ]
          },
          "metadata": {},
          "execution_count": 61
        }
      ]
    },
    {
      "cell_type": "markdown",
      "source": [
        "# Vectorize the training and test data. "
      ],
      "metadata": {
        "id": "Sj2iPCkum7jD"
      }
    },
    {
      "cell_type": "code",
      "source": [
        "\n",
        "x_train_transf, y_train_transf = df_transf_train_corpus.text, df_transf_train_corpus.label\n",
        "x_test_transf, y_test_transf = df_testFBRO.text, df_testFBRO.label\n",
        "\n",
        "vectorizer = TfidfVectorizer(max_features=50)\n",
        "X_train_transf = vectorizer.fit_transform(x_train_transf)\n",
        "X_test_transf = vectorizer.transform(x_test_transf)\n",
        "\n",
        "Y_train_transf = y_train_transf.map(labelCodificationMap)\n",
        "Y_test_transf = y_test_transf.map(labelCodificationMap)\n",
        "\n",
        "print(\"Train: n_samples: %d, n_features: %d\" % X_train_transf.shape)\n",
        "print(\"Test: n_samples: %d, n_features: %d\" % X_test_transf.shape)\n",
        "\n",
        "# getClasses([Y_train_transf.tolist(), Y_test_transf.tolist()])"
      ],
      "metadata": {
        "id": "iD-GYNLoWSTg",
        "colab": {
          "base_uri": "https://localhost:8080/"
        },
        "outputId": "99549d44-c335-4899-94ec-ee8c6f3ac55f"
      },
      "execution_count": 62,
      "outputs": [
        {
          "output_type": "stream",
          "name": "stdout",
          "text": [
            "Train: n_samples: 16009, n_features: 50\n",
            "Test: n_samples: 891, n_features: 50\n"
          ]
        }
      ]
    },
    {
      "cell_type": "code",
      "source": [
        "\n",
        "class_weight = compute_class_weight(\n",
        "\n",
        "    class_weight='balanced', classes=[\"OTHER\", \"PROFANITY\", \"INSULT\", \"ABUSE\"], y=y_train_transf.tolist()\n",
        "\n",
        ")\n",
        "\n",
        "model_svc = LinearSVC(class_weight=dict(zip(range(4),class_weight)))\n",
        "model_svc.fit(X_train_transf, Y_train_transf)\n"
      ],
      "metadata": {
        "id": "ws7UtVFIW_Ax",
        "colab": {
          "base_uri": "https://localhost:8080/"
        },
        "outputId": "58ec2c06-01ce-4b66-d206-0f6c9967c8fc"
      },
      "execution_count": 63,
      "outputs": [
        {
          "output_type": "execute_result",
          "data": {
            "text/plain": [
              "LinearSVC(class_weight={0: 0.5961939520333681, 1: 2.2817844925883692,\n",
              "                        2: 1.1719619326500732, 3: 0.9697722316452629})"
            ]
          },
          "metadata": {},
          "execution_count": 63
        }
      ]
    },
    {
      "cell_type": "markdown",
      "source": [
        "# Predict and display **fine grained** metrics"
      ],
      "metadata": {
        "id": "hCFfDLU6nC7j"
      }
    },
    {
      "cell_type": "code",
      "source": [
        "\n",
        "y_pred_transf = model_svc.predict(X_test_transf)\n",
        "\n",
        "score = metrics.accuracy_score(Y_test_transf, y_pred_transf)\n",
        "print(\"accuracy:   %0.3f\" % score)\n",
        "\n",
        "cf_matrix = metrics.confusion_matrix(Y_test_transf, y_pred_transf)"
      ],
      "metadata": {
        "id": "hGSRspiqm9qx",
        "colab": {
          "base_uri": "https://localhost:8080/"
        },
        "outputId": "4a0f4a7a-a35b-468e-a25a-51381a808762"
      },
      "execution_count": 64,
      "outputs": [
        {
          "output_type": "stream",
          "name": "stdout",
          "text": [
            "accuracy:   0.549\n"
          ]
        }
      ]
    },
    {
      "cell_type": "code",
      "source": [
        "f1_score(Y_test_transf, y_pred_transf, average=None)\n",
        "precision, recall, fbetascore, support = precision_recall_fscore_support(Y_test_transf, y_pred_transf, average='macro')\n",
        "print(\"Precision: {}\".format(precision))\n",
        "print(\"Recall: {}\".format(recall))\n",
        "print(\"f-beta-score: {}\".format(fbetascore))\n",
        "print(\"f1-score: {}\".format(f1))\n"
      ],
      "metadata": {
        "colab": {
          "base_uri": "https://localhost:8080/"
        },
        "id": "YgJWj1yzcoYw",
        "outputId": "93a5ef46-9b0f-4509-eb6d-05bacf3cfac3"
      },
      "execution_count": 65,
      "outputs": [
        {
          "output_type": "stream",
          "name": "stdout",
          "text": [
            "Precision: 0.37522491821155946\n",
            "Recall: 0.33510422448739297\n",
            "f-beta-score: 0.3288940259434792\n",
            "f1-score: [0.73244444 0.4        0.29710145 0.27046263]\n"
          ]
        }
      ]
    },
    {
      "cell_type": "code",
      "source": [
        "import seaborn as sns\n",
        "import matplotlib.pyplot as plt\n",
        "\n",
        "cmn = cf_matrix.astype('float') / cf_matrix.sum(axis=1)[:, np.newaxis]\n",
        "\n",
        "# ax = sns.heatmap(cf_matrix, annot=True, cmap='Reds', fmt='.2f')\n",
        "ax = sns.heatmap(cf_matrix, annot=True, cmap='Reds', fmt='g')\n",
        "ax.set_title('FINE GRAINED CONFUSION MATRIX\\n\\n');\n",
        "ax.set_xlabel('\\nPredicted Values')\n",
        "ax.set_ylabel('Actual Values ');\n",
        "\n",
        "ax.xaxis.set_ticklabels(['OTHER','PROFANITY', 'INSULT', 'ABUSE'])\n",
        "ax.yaxis.set_ticklabels(['OTHER','PROFANITY', 'INSULT', 'ABUSE'])\n",
        "\n"
      ],
      "metadata": {
        "id": "IWedHQC1aIxI",
        "colab": {
          "base_uri": "https://localhost:8080/",
          "height": 406
        },
        "outputId": "4dc61bde-6d49-46b0-8997-012dae06f801"
      },
      "execution_count": 66,
      "outputs": [
        {
          "output_type": "execute_result",
          "data": {
            "text/plain": [
              "[Text(0, 0.5, 'OTHER'),\n",
              " Text(0, 1.5, 'PROFANITY'),\n",
              " Text(0, 2.5, 'INSULT'),\n",
              " Text(0, 3.5, 'ABUSE')]"
            ]
          },
          "metadata": {},
          "execution_count": 66
        },
        {
          "output_type": "display_data",
          "data": {
            "text/plain": [
              "<Figure size 432x288 with 2 Axes>"
            ],
            "image/png": "[encoded data removed]"
          },
          "metadata": {
            "needs_background": "light"
          }
        }
      ]
    },
    {
      "cell_type": "markdown",
      "source": [
        "# Display **coarse grained** metrics"
      ],
      "metadata": {
        "id": "kx-d4DCNbbqz"
      }
    },
    {
      "cell_type": "code",
      "source": [
        "Y_test_transf = Y_test_transf.map({0:0, 1:1, 2:1, 3:1})\n",
        "y_pred_transf = pd.Series(y_pred_transf).map({0:0, 1:1, 2:1, 3:1})\n",
        "\n",
        "cf_matrix = metrics.confusion_matrix(Y_test_transf, y_pred_transf)\n",
        "\n",
        "score = metrics.accuracy_score(Y_test_transf, y_pred_transf)\n",
        "print(\"accuracy:   %0.3f\" % score)\n",
        "\n",
        "cmn = cf_matrix.astype('float') / cf_matrix.sum(axis=1)[:, np.newaxis]\n",
        "\n",
        "# ax = sns.heatmap(cf_matrix, annot=True, cmap='Reds', fmt='.2f')\n",
        "ax = sns.heatmap(cf_matrix, annot=True, cmap='Reds', fmt='g')\n",
        "ax.set_title('COARSE GRAINED CONFUSION MATRIX\\n\\n');\n",
        "ax.set_xlabel('\\nPredicted Values')\n",
        "ax.set_ylabel('Actual Values ');\n",
        "\n",
        "ax.xaxis.set_ticklabels(['OTHER','OFFENSIVE'])\n",
        "ax.yaxis.set_ticklabels(['OTHER','OFFENSIVE'])"
      ],
      "metadata": {
        "id": "I-llDDyEbbVy",
        "colab": {
          "base_uri": "https://localhost:8080/",
          "height": 372
        },
        "outputId": "ba91d26c-6bd8-44e2-aebb-2c3969e44fe0"
      },
      "execution_count": 67,
      "outputs": [
        {
          "output_type": "stream",
          "name": "stdout",
          "text": [
            "accuracy:   0.620\n"
          ]
        },
        {
          "output_type": "execute_result",
          "data": {
            "text/plain": [
              "[Text(0, 0.5, 'OTHER'), Text(0, 1.5, 'OFFENSIVE')]"
            ]
          },
          "metadata": {},
          "execution_count": 67
        },
        {
          "output_type": "display_data",
          "data": {
            "text/plain": [
              "<Figure size 432x288 with 2 Axes>"
            ],
            "image/png": "[encoded data removed]"
          },
          "metadata": {
            "needs_background": "light"
          }
        }
      ]
    },
    {
      "cell_type": "markdown",
      "source": [
        "#Some manual testing"
      ],
      "metadata": {
        "id": "uou3SYf4PQ3t"
      }
    },
    {
      "cell_type": "code",
      "source": [
        "texts = [\"ce pula mea zici acolo?\",\n",
        "      \"sa ma fut in ma-ta\",\n",
        "     \"du-te-n mortii ma-tii.\",\n",
        "     \"vai de mine cati destepti pe aici!\",\n",
        "     \"dumnezeii si grijania ma-tii!\"]\n",
        "text_features = vectorizer.transform(texts)\n",
        "predictions = model_svc.predict(text_features)\n",
        "for text, predicted in zip(texts, predictions):\n",
        "   print('\"{}\"'.format(text))\n",
        "   print(\"  - Predicted as: '{}'\".format(predicted))\n",
        "   print(\"\")"
      ],
      "metadata": {
        "colab": {
          "base_uri": "https://localhost:8080/"
        },
        "id": "dxobREsJNSnK",
        "outputId": "cecb93ef-0456-4ada-8cb8-441241bbacfb"
      },
      "execution_count": 68,
      "outputs": [
        {
          "output_type": "stream",
          "name": "stdout",
          "text": [
            "\"ce pula mea zici acolo?\"\n",
            "  - Predicted as: '1'\n",
            "\n",
            "\"sa ma fut in ma-ta\"\n",
            "  - Predicted as: '3'\n",
            "\n",
            "\"du-te-n mortii ma-tii.\"\n",
            "  - Predicted as: '3'\n",
            "\n",
            "\"vai de mine cati destepti pe aici!\"\n",
            "  - Predicted as: '3'\n",
            "\n",
            "\"dumnezeii si grijania ma-tii!\"\n",
            "  - Predicted as: '3'\n",
            "\n"
          ]
        }
      ]
    },
    {
      "cell_type": "markdown",
      "source": [
        "#Conclusions:\n",
        "\n",
        "\n",
        "*   RO-Offense Accuracy\n",
        "  * FG = 0.678\n",
        "  * CG = 0.797\n",
        "*   Transfer Learning (RO-Offense + FB-RO-Offense) Accuracy\n",
        "  * FG = 0.769\n",
        "  * CG = 0.855\n",
        "\n"
      ],
      "metadata": {
        "id": "zYo1EG82ogmS"
      }
    }
  ],
  "metadata": {
    "colab": {
      "collapsed_sections": [],
      "name": "InfrastructureSVM_FBRO_TRANSF.ipynb",
      "provenance": []
    },
    "kernelspec": {
      "display_name": "Python 3",
      "name": "python3"
    },
    "language_info": {
      "name": "python"
    }
  },
  "nbformat": 4,
  "nbformat_minor": 0
}